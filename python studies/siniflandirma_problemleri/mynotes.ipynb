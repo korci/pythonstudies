{
 "cells": [
  {
   "cell_type": "code",
   "execution_count": 3,
   "metadata": {
    "colab": {
     "base_uri": "https://localhost:8080/"
    },
    "executionInfo": {
     "elapsed": 20537,
     "status": "ok",
     "timestamp": 1624193880680,
     "user": {
      "displayName": "Yusuf",
      "photoUrl": "https://lh3.googleusercontent.com/a-/AOh14GiQ6hWUivwANbnwlw7xBR1EdEhqK5p0u_G2GJTcpw=s64",
      "userId": "15697169809797874975"
     },
     "user_tz": -180
    },
    "id": "Bm7kt8IRiZQC",
    "outputId": "c1a1b0c8-8d71-453d-ada6-6c77070b082f"
   },
   "outputs": [
    {
     "name": "stdout",
     "output_type": "stream",
     "text": [
      "Mounted at /content/drive\n"
     ]
    }
   ],
   "source": []
  },
  {
   "cell_type": "code",
   "execution_count": 4,
   "metadata": {
    "colab": {
     "base_uri": "https://localhost:8080/"
    },
    "executionInfo": {
     "elapsed": 793,
     "status": "ok",
     "timestamp": 1624193885601,
     "user": {
      "displayName": "Yusuf",
      "photoUrl": "https://lh3.googleusercontent.com/a-/AOh14GiQ6hWUivwANbnwlw7xBR1EdEhqK5p0u_G2GJTcpw=s64",
      "userId": "15697169809797874975"
     },
     "user_tz": -180
    },
    "id": "fPZXi7EziiNy",
    "outputId": "2f6aa7cb-31fd-4fc9-c9f8-00fbed3874fe"
   },
   "outputs": [
    {
     "name": "stdout",
     "output_type": "stream",
     "text": [
      "/content/drive/MyDrive/pythonstudies/python studies/siniflandirma_problemleri\n"
     ]
    }
   ],
   "source": []
  },
  {
   "cell_type": "code",
   "execution_count": 16,
   "metadata": {
    "colab": {
     "base_uri": "https://localhost:8080/"
    },
    "executionInfo": {
     "elapsed": 11770,
     "status": "ok",
     "timestamp": 1624182486164,
     "user": {
      "displayName": "Yusuf",
      "photoUrl": "https://lh3.googleusercontent.com/a-/AOh14GiQ6hWUivwANbnwlw7xBR1EdEhqK5p0u_G2GJTcpw=s64",
      "userId": "15697169809797874975"
     },
     "user_tz": -180
    },
    "id": "2iOuxPMJjOpF",
    "outputId": "915a29c7-22b1-48c0-fefe-c481cc50d877"
   },
   "outputs": [
    {
     "name": "stdout",
     "output_type": "stream",
     "text": [
      "Collecting catboost\n",
      "\u001b[?25l  Downloading https://files.pythonhosted.org/packages/5a/41/24e14322b9986cf72a8763e0a0a69cc256cf963cf9502c8f0044a62c1ae8/catboost-0.26-cp37-none-manylinux1_x86_64.whl (69.2MB)\n",
      "\u001b[K     |████████████████████████████████| 69.2MB 39kB/s \n",
      "\u001b[?25hRequirement already satisfied: graphviz in /usr/local/lib/python3.7/dist-packages (from catboost) (0.10.1)\n",
      "Requirement already satisfied: plotly in /usr/local/lib/python3.7/dist-packages (from catboost) (4.4.1)\n",
      "Requirement already satisfied: numpy>=1.16.0 in /usr/local/lib/python3.7/dist-packages (from catboost) (1.19.5)\n",
      "Requirement already satisfied: matplotlib in /usr/local/lib/python3.7/dist-packages (from catboost) (3.2.2)\n",
      "Requirement already satisfied: scipy in /usr/local/lib/python3.7/dist-packages (from catboost) (1.4.1)\n",
      "Requirement already satisfied: pandas>=0.24.0 in /usr/local/lib/python3.7/dist-packages (from catboost) (1.1.5)\n",
      "Requirement already satisfied: six in /usr/local/lib/python3.7/dist-packages (from catboost) (1.15.0)\n",
      "Requirement already satisfied: retrying>=1.3.3 in /usr/local/lib/python3.7/dist-packages (from plotly->catboost) (1.3.3)\n",
      "Requirement already satisfied: python-dateutil>=2.1 in /usr/local/lib/python3.7/dist-packages (from matplotlib->catboost) (2.8.1)\n",
      "Requirement already satisfied: pyparsing!=2.0.4,!=2.1.2,!=2.1.6,>=2.0.1 in /usr/local/lib/python3.7/dist-packages (from matplotlib->catboost) (2.4.7)\n",
      "Requirement already satisfied: cycler>=0.10 in /usr/local/lib/python3.7/dist-packages (from matplotlib->catboost) (0.10.0)\n",
      "Requirement already satisfied: kiwisolver>=1.0.1 in /usr/local/lib/python3.7/dist-packages (from matplotlib->catboost) (1.3.1)\n",
      "Requirement already satisfied: pytz>=2017.2 in /usr/local/lib/python3.7/dist-packages (from pandas>=0.24.0->catboost) (2018.9)\n",
      "Installing collected packages: catboost\n",
      "Successfully installed catboost-0.26\n"
     ]
    }
   ],
   "source": [
    "!pip install catboost"
   ]
  },
  {
   "cell_type": "code",
   "execution_count": 17,
   "metadata": {
    "colab": {
     "base_uri": "https://localhost:8080/"
    },
    "executionInfo": {
     "elapsed": 984,
     "status": "ok",
     "timestamp": 1624182487144,
     "user": {
      "displayName": "Yusuf",
      "photoUrl": "https://lh3.googleusercontent.com/a-/AOh14GiQ6hWUivwANbnwlw7xBR1EdEhqK5p0u_G2GJTcpw=s64",
      "userId": "15697169809797874975"
     },
     "user_tz": -180
    },
    "id": "R3h-sol-iWiY",
    "outputId": "b9477bdd-277d-40ad-e6a9-d723fa41be6a"
   },
   "outputs": [
    {
     "name": "stderr",
     "output_type": "stream",
     "text": [
      "/usr/local/lib/python3.7/dist-packages/statsmodels/tools/_testing.py:19: FutureWarning: pandas.util.testing is deprecated. Use the functions in the public API at pandas.testing instead.\n",
      "  import pandas.util.testing as tm\n"
     ]
    }
   ],
   "source": [
    "import numpy as np\n",
    "import pandas as pd \n",
    "import statsmodels.api as sm\n",
    "import statsmodels.formula.api as smf\n",
    "import seaborn as sns\n",
    "from sklearn.preprocessing import scale \n",
    "from sklearn.model_selection import train_test_split, GridSearchCV, cross_val_score\n",
    "from sklearn.metrics import confusion_matrix, accuracy_score, classification_report\n",
    "from sklearn.metrics import roc_auc_score,roc_curve\n",
    "import statsmodels.formula.api as smf\n",
    "import matplotlib.pyplot as plt\n",
    "from sklearn.neighbors import KNeighborsClassifier\n",
    "from sklearn.discriminant_analysis import LinearDiscriminantAnalysis\n",
    "from sklearn.linear_model import LogisticRegression\n",
    "from sklearn.svm import SVC\n",
    "from sklearn.naive_bayes import GaussianNB\n",
    "from sklearn import tree\n",
    "from sklearn.ensemble import RandomForestClassifier\n",
    "from sklearn.ensemble import GradientBoostingClassifier\n",
    "from xgboost import XGBClassifier\n",
    "from lightgbm import LGBMClassifier\n",
    "from catboost import CatBoostClassifier\n",
    "\n",
    "from warnings import filterwarnings\n",
    "filterwarnings('ignore')"
   ]
  },
  {
   "cell_type": "markdown",
   "metadata": {
    "id": "W2S8_rBpiWie"
   },
   "source": [
    "# Logistic Regression"
   ]
  },
  {
   "cell_type": "code",
   "execution_count": 18,
   "metadata": {
    "executionInfo": {
     "elapsed": 251,
     "status": "ok",
     "timestamp": 1624182487394,
     "user": {
      "displayName": "Yusuf",
      "photoUrl": "https://lh3.googleusercontent.com/a-/AOh14GiQ6hWUivwANbnwlw7xBR1EdEhqK5p0u_G2GJTcpw=s64",
      "userId": "15697169809797874975"
     },
     "user_tz": -180
    },
    "id": "btjlI6vHiWif"
   },
   "outputs": [],
   "source": [
    "# modelling"
   ]
  },
  {
   "cell_type": "code",
   "execution_count": 19,
   "metadata": {
    "colab": {
     "base_uri": "https://localhost:8080/",
     "height": 206
    },
    "executionInfo": {
     "elapsed": 251,
     "status": "ok",
     "timestamp": 1624182487642,
     "user": {
      "displayName": "Yusuf",
      "photoUrl": "https://lh3.googleusercontent.com/a-/AOh14GiQ6hWUivwANbnwlw7xBR1EdEhqK5p0u_G2GJTcpw=s64",
      "userId": "15697169809797874975"
     },
     "user_tz": -180
    },
    "id": "tc_BLeT1iWig",
    "outputId": "e6d42721-f48b-4b90-9f75-3fd32af350c2"
   },
   "outputs": [
    {
     "data": {
      "text/html": [
       "<div>\n",
       "<style scoped>\n",
       "    .dataframe tbody tr th:only-of-type {\n",
       "        vertical-align: middle;\n",
       "    }\n",
       "\n",
       "    .dataframe tbody tr th {\n",
       "        vertical-align: top;\n",
       "    }\n",
       "\n",
       "    .dataframe thead th {\n",
       "        text-align: right;\n",
       "    }\n",
       "</style>\n",
       "<table border=\"1\" class=\"dataframe\">\n",
       "  <thead>\n",
       "    <tr style=\"text-align: right;\">\n",
       "      <th></th>\n",
       "      <th>Pregnancies</th>\n",
       "      <th>Glucose</th>\n",
       "      <th>BloodPressure</th>\n",
       "      <th>SkinThickness</th>\n",
       "      <th>Insulin</th>\n",
       "      <th>BMI</th>\n",
       "      <th>DiabetesPedigreeFunction</th>\n",
       "      <th>Age</th>\n",
       "      <th>Outcome</th>\n",
       "    </tr>\n",
       "  </thead>\n",
       "  <tbody>\n",
       "    <tr>\n",
       "      <th>0</th>\n",
       "      <td>6</td>\n",
       "      <td>148</td>\n",
       "      <td>72</td>\n",
       "      <td>35</td>\n",
       "      <td>0</td>\n",
       "      <td>33.6</td>\n",
       "      <td>0.627</td>\n",
       "      <td>50</td>\n",
       "      <td>1</td>\n",
       "    </tr>\n",
       "    <tr>\n",
       "      <th>1</th>\n",
       "      <td>1</td>\n",
       "      <td>85</td>\n",
       "      <td>66</td>\n",
       "      <td>29</td>\n",
       "      <td>0</td>\n",
       "      <td>26.6</td>\n",
       "      <td>0.351</td>\n",
       "      <td>31</td>\n",
       "      <td>0</td>\n",
       "    </tr>\n",
       "    <tr>\n",
       "      <th>2</th>\n",
       "      <td>8</td>\n",
       "      <td>183</td>\n",
       "      <td>64</td>\n",
       "      <td>0</td>\n",
       "      <td>0</td>\n",
       "      <td>23.3</td>\n",
       "      <td>0.672</td>\n",
       "      <td>32</td>\n",
       "      <td>1</td>\n",
       "    </tr>\n",
       "    <tr>\n",
       "      <th>3</th>\n",
       "      <td>1</td>\n",
       "      <td>89</td>\n",
       "      <td>66</td>\n",
       "      <td>23</td>\n",
       "      <td>94</td>\n",
       "      <td>28.1</td>\n",
       "      <td>0.167</td>\n",
       "      <td>21</td>\n",
       "      <td>0</td>\n",
       "    </tr>\n",
       "    <tr>\n",
       "      <th>4</th>\n",
       "      <td>0</td>\n",
       "      <td>137</td>\n",
       "      <td>40</td>\n",
       "      <td>35</td>\n",
       "      <td>168</td>\n",
       "      <td>43.1</td>\n",
       "      <td>2.288</td>\n",
       "      <td>33</td>\n",
       "      <td>1</td>\n",
       "    </tr>\n",
       "  </tbody>\n",
       "</table>\n",
       "</div>"
      ],
      "text/plain": [
       "   Pregnancies  Glucose  BloodPressure  ...  DiabetesPedigreeFunction  Age  Outcome\n",
       "0            6      148             72  ...                     0.627   50        1\n",
       "1            1       85             66  ...                     0.351   31        0\n",
       "2            8      183             64  ...                     0.672   32        1\n",
       "3            1       89             66  ...                     0.167   21        0\n",
       "4            0      137             40  ...                     2.288   33        1\n",
       "\n",
       "[5 rows x 9 columns]"
      ]
     },
     "execution_count": 19,
     "metadata": {
      "tags": []
     },
     "output_type": "execute_result"
    }
   ],
   "source": [
    "diabetes = pd.read_csv(\"diabetes.csv\")\n",
    "df = diabetes.copy()\n",
    "df = df.dropna()\n",
    "df.head()"
   ]
  },
  {
   "cell_type": "code",
   "execution_count": 20,
   "metadata": {
    "colab": {
     "base_uri": "https://localhost:8080/"
    },
    "executionInfo": {
     "elapsed": 17,
     "status": "ok",
     "timestamp": 1624182487643,
     "user": {
      "displayName": "Yusuf",
      "photoUrl": "https://lh3.googleusercontent.com/a-/AOh14GiQ6hWUivwANbnwlw7xBR1EdEhqK5p0u_G2GJTcpw=s64",
      "userId": "15697169809797874975"
     },
     "user_tz": -180
    },
    "id": "Jfa3UMcjiWii",
    "outputId": "7299ed8a-7eff-4015-8569-f9a600e309f5"
   },
   "outputs": [
    {
     "name": "stdout",
     "output_type": "stream",
     "text": [
      "<class 'pandas.core.frame.DataFrame'>\n",
      "Int64Index: 768 entries, 0 to 767\n",
      "Data columns (total 9 columns):\n",
      " #   Column                    Non-Null Count  Dtype  \n",
      "---  ------                    --------------  -----  \n",
      " 0   Pregnancies               768 non-null    int64  \n",
      " 1   Glucose                   768 non-null    int64  \n",
      " 2   BloodPressure             768 non-null    int64  \n",
      " 3   SkinThickness             768 non-null    int64  \n",
      " 4   Insulin                   768 non-null    int64  \n",
      " 5   BMI                       768 non-null    float64\n",
      " 6   DiabetesPedigreeFunction  768 non-null    float64\n",
      " 7   Age                       768 non-null    int64  \n",
      " 8   Outcome                   768 non-null    int64  \n",
      "dtypes: float64(2), int64(7)\n",
      "memory usage: 60.0 KB\n"
     ]
    }
   ],
   "source": [
    "df.info()"
   ]
  },
  {
   "cell_type": "code",
   "execution_count": 21,
   "metadata": {
    "colab": {
     "base_uri": "https://localhost:8080/"
    },
    "executionInfo": {
     "elapsed": 11,
     "status": "ok",
     "timestamp": 1624182487644,
     "user": {
      "displayName": "Yusuf",
      "photoUrl": "https://lh3.googleusercontent.com/a-/AOh14GiQ6hWUivwANbnwlw7xBR1EdEhqK5p0u_G2GJTcpw=s64",
      "userId": "15697169809797874975"
     },
     "user_tz": -180
    },
    "id": "C2D-noH-iWij",
    "outputId": "58ba16f5-cd9d-4dd8-da44-a0751b5813a0"
   },
   "outputs": [
    {
     "data": {
      "text/plain": [
       "0    500\n",
       "1    268\n",
       "Name: Outcome, dtype: int64"
      ]
     },
     "execution_count": 21,
     "metadata": {
      "tags": []
     },
     "output_type": "execute_result"
    }
   ],
   "source": [
    "df[\"Outcome\"].value_counts()"
   ]
  },
  {
   "cell_type": "code",
   "execution_count": 22,
   "metadata": {
    "colab": {
     "base_uri": "https://localhost:8080/",
     "height": 265
    },
    "executionInfo": {
     "elapsed": 286,
     "status": "ok",
     "timestamp": 1624182487923,
     "user": {
      "displayName": "Yusuf",
      "photoUrl": "https://lh3.googleusercontent.com/a-/AOh14GiQ6hWUivwANbnwlw7xBR1EdEhqK5p0u_G2GJTcpw=s64",
      "userId": "15697169809797874975"
     },
     "user_tz": -180
    },
    "id": "6xTAw8G7iWil",
    "outputId": "3a52b4db-82e6-4c58-b1ec-6e7c60783bf8"
   },
   "outputs": [
    {
     "data": {
      "image/png": "[encoded data removed]",
      "text/plain": [
       "<Figure size 432x288 with 1 Axes>"
      ]
     },
     "metadata": {
      "needs_background": "light",
      "tags": []
     },
     "output_type": "display_data"
    }
   ],
   "source": [
    "df[\"Outcome\"].value_counts().plot.barh();"
   ]
  },
  {
   "cell_type": "code",
   "execution_count": 23,
   "metadata": {
    "colab": {
     "base_uri": "https://localhost:8080/",
     "height": 332
    },
    "executionInfo": {
     "elapsed": 13,
     "status": "ok",
     "timestamp": 1624182487924,
     "user": {
      "displayName": "Yusuf",
      "photoUrl": "https://lh3.googleusercontent.com/a-/AOh14GiQ6hWUivwANbnwlw7xBR1EdEhqK5p0u_G2GJTcpw=s64",
      "userId": "15697169809797874975"
     },
     "user_tz": -180
    },
    "id": "-Yw3heiViWil",
    "outputId": "b589e434-f308-4679-f7df-e5e8c0a9d451"
   },
   "outputs": [
    {
     "data": {
      "text/html": [
       "<div>\n",
       "<style scoped>\n",
       "    .dataframe tbody tr th:only-of-type {\n",
       "        vertical-align: middle;\n",
       "    }\n",
       "\n",
       "    .dataframe tbody tr th {\n",
       "        vertical-align: top;\n",
       "    }\n",
       "\n",
       "    .dataframe thead th {\n",
       "        text-align: right;\n",
       "    }\n",
       "</style>\n",
       "<table border=\"1\" class=\"dataframe\">\n",
       "  <thead>\n",
       "    <tr style=\"text-align: right;\">\n",
       "      <th></th>\n",
       "      <th>count</th>\n",
       "      <th>mean</th>\n",
       "      <th>std</th>\n",
       "      <th>min</th>\n",
       "      <th>25%</th>\n",
       "      <th>50%</th>\n",
       "      <th>75%</th>\n",
       "      <th>max</th>\n",
       "    </tr>\n",
       "  </thead>\n",
       "  <tbody>\n",
       "    <tr>\n",
       "      <th>Pregnancies</th>\n",
       "      <td>768.0</td>\n",
       "      <td>3.845052</td>\n",
       "      <td>3.369578</td>\n",
       "      <td>0.000</td>\n",
       "      <td>1.00000</td>\n",
       "      <td>3.0000</td>\n",
       "      <td>6.00000</td>\n",
       "      <td>17.00</td>\n",
       "    </tr>\n",
       "    <tr>\n",
       "      <th>Glucose</th>\n",
       "      <td>768.0</td>\n",
       "      <td>120.894531</td>\n",
       "      <td>31.972618</td>\n",
       "      <td>0.000</td>\n",
       "      <td>99.00000</td>\n",
       "      <td>117.0000</td>\n",
       "      <td>140.25000</td>\n",
       "      <td>199.00</td>\n",
       "    </tr>\n",
       "    <tr>\n",
       "      <th>BloodPressure</th>\n",
       "      <td>768.0</td>\n",
       "      <td>69.105469</td>\n",
       "      <td>19.355807</td>\n",
       "      <td>0.000</td>\n",
       "      <td>62.00000</td>\n",
       "      <td>72.0000</td>\n",
       "      <td>80.00000</td>\n",
       "      <td>122.00</td>\n",
       "    </tr>\n",
       "    <tr>\n",
       "      <th>SkinThickness</th>\n",
       "      <td>768.0</td>\n",
       "      <td>20.536458</td>\n",
       "      <td>15.952218</td>\n",
       "      <td>0.000</td>\n",
       "      <td>0.00000</td>\n",
       "      <td>23.0000</td>\n",
       "      <td>32.00000</td>\n",
       "      <td>99.00</td>\n",
       "    </tr>\n",
       "    <tr>\n",
       "      <th>Insulin</th>\n",
       "      <td>768.0</td>\n",
       "      <td>79.799479</td>\n",
       "      <td>115.244002</td>\n",
       "      <td>0.000</td>\n",
       "      <td>0.00000</td>\n",
       "      <td>30.5000</td>\n",
       "      <td>127.25000</td>\n",
       "      <td>846.00</td>\n",
       "    </tr>\n",
       "    <tr>\n",
       "      <th>BMI</th>\n",
       "      <td>768.0</td>\n",
       "      <td>31.992578</td>\n",
       "      <td>7.884160</td>\n",
       "      <td>0.000</td>\n",
       "      <td>27.30000</td>\n",
       "      <td>32.0000</td>\n",
       "      <td>36.60000</td>\n",
       "      <td>67.10</td>\n",
       "    </tr>\n",
       "    <tr>\n",
       "      <th>DiabetesPedigreeFunction</th>\n",
       "      <td>768.0</td>\n",
       "      <td>0.471876</td>\n",
       "      <td>0.331329</td>\n",
       "      <td>0.078</td>\n",
       "      <td>0.24375</td>\n",
       "      <td>0.3725</td>\n",
       "      <td>0.62625</td>\n",
       "      <td>2.42</td>\n",
       "    </tr>\n",
       "    <tr>\n",
       "      <th>Age</th>\n",
       "      <td>768.0</td>\n",
       "      <td>33.240885</td>\n",
       "      <td>11.760232</td>\n",
       "      <td>21.000</td>\n",
       "      <td>24.00000</td>\n",
       "      <td>29.0000</td>\n",
       "      <td>41.00000</td>\n",
       "      <td>81.00</td>\n",
       "    </tr>\n",
       "    <tr>\n",
       "      <th>Outcome</th>\n",
       "      <td>768.0</td>\n",
       "      <td>0.348958</td>\n",
       "      <td>0.476951</td>\n",
       "      <td>0.000</td>\n",
       "      <td>0.00000</td>\n",
       "      <td>0.0000</td>\n",
       "      <td>1.00000</td>\n",
       "      <td>1.00</td>\n",
       "    </tr>\n",
       "  </tbody>\n",
       "</table>\n",
       "</div>"
      ],
      "text/plain": [
       "                          count        mean  ...        75%     max\n",
       "Pregnancies               768.0    3.845052  ...    6.00000   17.00\n",
       "Glucose                   768.0  120.894531  ...  140.25000  199.00\n",
       "BloodPressure             768.0   69.105469  ...   80.00000  122.00\n",
       "SkinThickness             768.0   20.536458  ...   32.00000   99.00\n",
       "Insulin                   768.0   79.799479  ...  127.25000  846.00\n",
       "BMI                       768.0   31.992578  ...   36.60000   67.10\n",
       "DiabetesPedigreeFunction  768.0    0.471876  ...    0.62625    2.42\n",
       "Age                       768.0   33.240885  ...   41.00000   81.00\n",
       "Outcome                   768.0    0.348958  ...    1.00000    1.00\n",
       "\n",
       "[9 rows x 8 columns]"
      ]
     },
     "execution_count": 23,
     "metadata": {
      "tags": []
     },
     "output_type": "execute_result"
    }
   ],
   "source": [
    "df.describe().T"
   ]
  },
  {
   "cell_type": "code",
   "execution_count": 24,
   "metadata": {
    "executionInfo": {
     "elapsed": 13,
     "status": "ok",
     "timestamp": 1624182487926,
     "user": {
      "displayName": "Yusuf",
      "photoUrl": "https://lh3.googleusercontent.com/a-/AOh14GiQ6hWUivwANbnwlw7xBR1EdEhqK5p0u_G2GJTcpw=s64",
      "userId": "15697169809797874975"
     },
     "user_tz": -180
    },
    "id": "q_fJWMaDiWim"
   },
   "outputs": [],
   "source": [
    "y = df[\"Outcome\"]\n",
    "X = df.drop([\"Outcome\"], axis=1)"
   ]
  },
  {
   "cell_type": "code",
   "execution_count": 25,
   "metadata": {
    "executionInfo": {
     "elapsed": 13,
     "status": "ok",
     "timestamp": 1624182487927,
     "user": {
      "displayName": "Yusuf",
      "photoUrl": "https://lh3.googleusercontent.com/a-/AOh14GiQ6hWUivwANbnwlw7xBR1EdEhqK5p0u_G2GJTcpw=s64",
      "userId": "15697169809797874975"
     },
     "user_tz": -180
    },
    "id": "62V4SxXSiWin"
   },
   "outputs": [],
   "source": [
    "# statsmodels"
   ]
  },
  {
   "cell_type": "code",
   "execution_count": 26,
   "metadata": {
    "colab": {
     "base_uri": "https://localhost:8080/",
     "height": 436
    },
    "executionInfo": {
     "elapsed": 422,
     "status": "ok",
     "timestamp": 1624182488338,
     "user": {
      "displayName": "Yusuf",
      "photoUrl": "https://lh3.googleusercontent.com/a-/AOh14GiQ6hWUivwANbnwlw7xBR1EdEhqK5p0u_G2GJTcpw=s64",
      "userId": "15697169809797874975"
     },
     "user_tz": -180
    },
    "id": "RrOwFjWNiWin",
    "outputId": "1e52b0da-97ab-4a91-9411-07c0083cae5f"
   },
   "outputs": [
    {
     "name": "stdout",
     "output_type": "stream",
     "text": [
      "Optimization terminated successfully.\n",
      "         Current function value: 0.608498\n",
      "         Iterations 5\n"
     ]
    },
    {
     "data": {
      "text/html": [
       "<table class=\"simpletable\">\n",
       "<caption>Logit Regression Results</caption>\n",
       "<tr>\n",
       "  <th>Dep. Variable:</th>        <td>Outcome</td>     <th>  No. Observations:  </th>  <td>   768</td>  \n",
       "</tr>\n",
       "<tr>\n",
       "  <th>Model:</th>                 <td>Logit</td>      <th>  Df Residuals:      </th>  <td>   760</td>  \n",
       "</tr>\n",
       "<tr>\n",
       "  <th>Method:</th>                 <td>MLE</td>       <th>  Df Model:          </th>  <td>     7</td>  \n",
       "</tr>\n",
       "<tr>\n",
       "  <th>Date:</th>            <td>Sun, 20 Jun 2021</td> <th>  Pseudo R-squ.:     </th>  <td>0.05922</td> \n",
       "</tr>\n",
       "<tr>\n",
       "  <th>Time:</th>                <td>09:48:07</td>     <th>  Log-Likelihood:    </th> <td> -467.33</td> \n",
       "</tr>\n",
       "<tr>\n",
       "  <th>converged:</th>             <td>True</td>       <th>  LL-Null:           </th> <td> -496.74</td> \n",
       "</tr>\n",
       "<tr>\n",
       "  <th>Covariance Type:</th>     <td>nonrobust</td>    <th>  LLR p-value:       </th> <td>2.583e-10</td>\n",
       "</tr>\n",
       "</table>\n",
       "<table class=\"simpletable\">\n",
       "<tr>\n",
       "              <td></td>                <th>coef</th>     <th>std err</th>      <th>z</th>      <th>P>|z|</th>  <th>[0.025</th>    <th>0.975]</th>  \n",
       "</tr>\n",
       "<tr>\n",
       "  <th>Pregnancies</th>              <td>    0.1284</td> <td>    0.029</td> <td>    4.484</td> <td> 0.000</td> <td>    0.072</td> <td>    0.185</td>\n",
       "</tr>\n",
       "<tr>\n",
       "  <th>Glucose</th>                  <td>    0.0129</td> <td>    0.003</td> <td>    4.757</td> <td> 0.000</td> <td>    0.008</td> <td>    0.018</td>\n",
       "</tr>\n",
       "<tr>\n",
       "  <th>BloodPressure</th>            <td>   -0.0303</td> <td>    0.005</td> <td>   -6.481</td> <td> 0.000</td> <td>   -0.039</td> <td>   -0.021</td>\n",
       "</tr>\n",
       "<tr>\n",
       "  <th>SkinThickness</th>            <td>    0.0002</td> <td>    0.006</td> <td>    0.032</td> <td> 0.974</td> <td>   -0.012</td> <td>    0.012</td>\n",
       "</tr>\n",
       "<tr>\n",
       "  <th>Insulin</th>                  <td>    0.0007</td> <td>    0.001</td> <td>    0.942</td> <td> 0.346</td> <td>   -0.001</td> <td>    0.002</td>\n",
       "</tr>\n",
       "<tr>\n",
       "  <th>BMI</th>                      <td>   -0.0048</td> <td>    0.011</td> <td>   -0.449</td> <td> 0.653</td> <td>   -0.026</td> <td>    0.016</td>\n",
       "</tr>\n",
       "<tr>\n",
       "  <th>DiabetesPedigreeFunction</th> <td>    0.3203</td> <td>    0.240</td> <td>    1.335</td> <td> 0.182</td> <td>   -0.150</td> <td>    0.790</td>\n",
       "</tr>\n",
       "<tr>\n",
       "  <th>Age</th>                      <td>   -0.0156</td> <td>    0.008</td> <td>   -1.852</td> <td> 0.064</td> <td>   -0.032</td> <td>    0.001</td>\n",
       "</tr>\n",
       "</table>"
      ],
      "text/plain": [
       "<class 'statsmodels.iolib.summary.Summary'>\n",
       "\"\"\"\n",
       "                           Logit Regression Results                           \n",
       "==============================================================================\n",
       "Dep. Variable:                Outcome   No. Observations:                  768\n",
       "Model:                          Logit   Df Residuals:                      760\n",
       "Method:                           MLE   Df Model:                            7\n",
       "Date:                Sun, 20 Jun 2021   Pseudo R-squ.:                 0.05922\n",
       "Time:                        09:48:07   Log-Likelihood:                -467.33\n",
       "converged:                       True   LL-Null:                       -496.74\n",
       "Covariance Type:            nonrobust   LLR p-value:                 2.583e-10\n",
       "============================================================================================\n",
       "                               coef    std err          z      P>|z|      [0.025      0.975]\n",
       "--------------------------------------------------------------------------------------------\n",
       "Pregnancies                  0.1284      0.029      4.484      0.000       0.072       0.185\n",
       "Glucose                      0.0129      0.003      4.757      0.000       0.008       0.018\n",
       "BloodPressure               -0.0303      0.005     -6.481      0.000      -0.039      -0.021\n",
       "SkinThickness                0.0002      0.006      0.032      0.974      -0.012       0.012\n",
       "Insulin                      0.0007      0.001      0.942      0.346      -0.001       0.002\n",
       "BMI                         -0.0048      0.011     -0.449      0.653      -0.026       0.016\n",
       "DiabetesPedigreeFunction     0.3203      0.240      1.335      0.182      -0.150       0.790\n",
       "Age                         -0.0156      0.008     -1.852      0.064      -0.032       0.001\n",
       "============================================================================================\n",
       "\"\"\""
      ]
     },
     "execution_count": 26,
     "metadata": {
      "tags": []
     },
     "output_type": "execute_result"
    }
   ],
   "source": [
    "loj = sm.Logit(y, X)\n",
    "loj_model= loj.fit()\n",
    "loj_model.summary()"
   ]
  },
  {
   "cell_type": "code",
   "execution_count": 27,
   "metadata": {
    "executionInfo": {
     "elapsed": 68,
     "status": "ok",
     "timestamp": 1624182488340,
     "user": {
      "displayName": "Yusuf",
      "photoUrl": "https://lh3.googleusercontent.com/a-/AOh14GiQ6hWUivwANbnwlw7xBR1EdEhqK5p0u_G2GJTcpw=s64",
      "userId": "15697169809797874975"
     },
     "user_tz": -180
    },
    "id": "3L8DFB5aiWio"
   },
   "outputs": [],
   "source": [
    "# scikit-learn"
   ]
  },
  {
   "cell_type": "code",
   "execution_count": 28,
   "metadata": {
    "colab": {
     "base_uri": "https://localhost:8080/"
    },
    "executionInfo": {
     "elapsed": 68,
     "status": "ok",
     "timestamp": 1624182488341,
     "user": {
      "displayName": "Yusuf",
      "photoUrl": "https://lh3.googleusercontent.com/a-/AOh14GiQ6hWUivwANbnwlw7xBR1EdEhqK5p0u_G2GJTcpw=s64",
      "userId": "15697169809797874975"
     },
     "user_tz": -180
    },
    "id": "Cad5WiR6iWiq",
    "outputId": "b5de00ab-db3c-4524-a2d3-07d18cb6391c"
   },
   "outputs": [
    {
     "data": {
      "text/plain": [
       "LogisticRegression(C=1.0, class_weight=None, dual=False, fit_intercept=True,\n",
       "                   intercept_scaling=1, l1_ratio=None, max_iter=100,\n",
       "                   multi_class='auto', n_jobs=None, penalty='l2',\n",
       "                   random_state=None, solver='liblinear', tol=0.0001, verbose=0,\n",
       "                   warm_start=False)"
      ]
     },
     "execution_count": 28,
     "metadata": {
      "tags": []
     },
     "output_type": "execute_result"
    }
   ],
   "source": [
    "from sklearn.linear_model import LogisticRegression\n",
    "loj = LogisticRegression(solver = \"liblinear\") # liblinear is important\n",
    "loj_model = loj.fit(X,y)\n",
    "loj_model"
   ]
  },
  {
   "cell_type": "code",
   "execution_count": 29,
   "metadata": {
    "colab": {
     "base_uri": "https://localhost:8080/"
    },
    "executionInfo": {
     "elapsed": 66,
     "status": "ok",
     "timestamp": 1624182488341,
     "user": {
      "displayName": "Yusuf",
      "photoUrl": "https://lh3.googleusercontent.com/a-/AOh14GiQ6hWUivwANbnwlw7xBR1EdEhqK5p0u_G2GJTcpw=s64",
      "userId": "15697169809797874975"
     },
     "user_tz": -180
    },
    "id": "d0Z0pqLPiWiq",
    "outputId": "77e044c8-dac2-433c-d636-b1c5defd2799"
   },
   "outputs": [
    {
     "data": {
      "text/plain": [
       "array([-5.88653539])"
      ]
     },
     "execution_count": 29,
     "metadata": {
      "tags": []
     },
     "output_type": "execute_result"
    }
   ],
   "source": [
    "loj_model.intercept_"
   ]
  },
  {
   "cell_type": "code",
   "execution_count": 30,
   "metadata": {
    "colab": {
     "base_uri": "https://localhost:8080/"
    },
    "executionInfo": {
     "elapsed": 65,
     "status": "ok",
     "timestamp": 1624182488343,
     "user": {
      "displayName": "Yusuf",
      "photoUrl": "https://lh3.googleusercontent.com/a-/AOh14GiQ6hWUivwANbnwlw7xBR1EdEhqK5p0u_G2GJTcpw=s64",
      "userId": "15697169809797874975"
     },
     "user_tz": -180
    },
    "id": "jYEfL6CuiWir",
    "outputId": "c2036681-51c0-4fb2-e386-1b95bf343bd4"
   },
   "outputs": [
    {
     "data": {
      "text/plain": [
       "array([[ 1.17098692e-01,  2.83673379e-02, -1.69010912e-02,\n",
       "         7.40100722e-04, -6.42594633e-04,  5.96676293e-02,\n",
       "         6.83738130e-01,  7.20115615e-03]])"
      ]
     },
     "execution_count": 30,
     "metadata": {
      "tags": []
     },
     "output_type": "execute_result"
    }
   ],
   "source": [
    "loj_model.coef_"
   ]
  },
  {
   "cell_type": "code",
   "execution_count": 31,
   "metadata": {
    "executionInfo": {
     "elapsed": 61,
     "status": "ok",
     "timestamp": 1624182488343,
     "user": {
      "displayName": "Yusuf",
      "photoUrl": "https://lh3.googleusercontent.com/a-/AOh14GiQ6hWUivwANbnwlw7xBR1EdEhqK5p0u_G2GJTcpw=s64",
      "userId": "15697169809797874975"
     },
     "user_tz": -180
    },
    "id": "gJUmktFJiWir"
   },
   "outputs": [],
   "source": [
    "# prediction and model tuning"
   ]
  },
  {
   "cell_type": "code",
   "execution_count": 32,
   "metadata": {
    "executionInfo": {
     "elapsed": 61,
     "status": "ok",
     "timestamp": 1624182488344,
     "user": {
      "displayName": "Yusuf",
      "photoUrl": "https://lh3.googleusercontent.com/a-/AOh14GiQ6hWUivwANbnwlw7xBR1EdEhqK5p0u_G2GJTcpw=s64",
      "userId": "15697169809797874975"
     },
     "user_tz": -180
    },
    "id": "l9PKnB-ZiWis"
   },
   "outputs": [],
   "source": [
    "y_pred = loj_model.predict(X)"
   ]
  },
  {
   "cell_type": "code",
   "execution_count": 33,
   "metadata": {
    "colab": {
     "base_uri": "https://localhost:8080/"
    },
    "executionInfo": {
     "elapsed": 60,
     "status": "ok",
     "timestamp": 1624182488344,
     "user": {
      "displayName": "Yusuf",
      "photoUrl": "https://lh3.googleusercontent.com/a-/AOh14GiQ6hWUivwANbnwlw7xBR1EdEhqK5p0u_G2GJTcpw=s64",
      "userId": "15697169809797874975"
     },
     "user_tz": -180
    },
    "id": "dCX8wXK2iWis",
    "outputId": "1678a9ea-13ef-4050-df82-2d10ad728db8"
   },
   "outputs": [
    {
     "data": {
      "text/plain": [
       "array([[448,  52],\n",
       "       [120, 148]])"
      ]
     },
     "execution_count": 33,
     "metadata": {
      "tags": []
     },
     "output_type": "execute_result"
    }
   ],
   "source": [
    "confusion_matrix(y, y_pred)"
   ]
  },
  {
   "cell_type": "code",
   "execution_count": 34,
   "metadata": {
    "colab": {
     "base_uri": "https://localhost:8080/"
    },
    "executionInfo": {
     "elapsed": 58,
     "status": "ok",
     "timestamp": 1624182488345,
     "user": {
      "displayName": "Yusuf",
      "photoUrl": "https://lh3.googleusercontent.com/a-/AOh14GiQ6hWUivwANbnwlw7xBR1EdEhqK5p0u_G2GJTcpw=s64",
      "userId": "15697169809797874975"
     },
     "user_tz": -180
    },
    "id": "R4P5Hj_niWis",
    "outputId": "58a24ea4-86c6-4c1d-bab3-18106ab1c8b0"
   },
   "outputs": [
    {
     "data": {
      "text/plain": [
       "0.7760416666666666"
      ]
     },
     "execution_count": 34,
     "metadata": {
      "tags": []
     },
     "output_type": "execute_result"
    }
   ],
   "source": [
    "accuracy_score(y, y_pred) # correct classification rate"
   ]
  },
  {
   "cell_type": "code",
   "execution_count": 35,
   "metadata": {
    "colab": {
     "base_uri": "https://localhost:8080/"
    },
    "executionInfo": {
     "elapsed": 56,
     "status": "ok",
     "timestamp": 1624182488345,
     "user": {
      "displayName": "Yusuf",
      "photoUrl": "https://lh3.googleusercontent.com/a-/AOh14GiQ6hWUivwANbnwlw7xBR1EdEhqK5p0u_G2GJTcpw=s64",
      "userId": "15697169809797874975"
     },
     "user_tz": -180
    },
    "id": "UoBDO8PLiWit",
    "outputId": "a9af8aaa-cd83-4339-b229-b0a2ca325b5b"
   },
   "outputs": [
    {
     "name": "stdout",
     "output_type": "stream",
     "text": [
      "              precision    recall  f1-score   support\n",
      "\n",
      "           0       0.79      0.90      0.84       500\n",
      "           1       0.74      0.55      0.63       268\n",
      "\n",
      "    accuracy                           0.78       768\n",
      "   macro avg       0.76      0.72      0.74       768\n",
      "weighted avg       0.77      0.78      0.77       768\n",
      "\n"
     ]
    }
   ],
   "source": [
    "print(classification_report(y, y_pred))"
   ]
  },
  {
   "cell_type": "code",
   "execution_count": 36,
   "metadata": {
    "colab": {
     "base_uri": "https://localhost:8080/"
    },
    "executionInfo": {
     "elapsed": 53,
     "status": "ok",
     "timestamp": 1624182488346,
     "user": {
      "displayName": "Yusuf",
      "photoUrl": "https://lh3.googleusercontent.com/a-/AOh14GiQ6hWUivwANbnwlw7xBR1EdEhqK5p0u_G2GJTcpw=s64",
      "userId": "15697169809797874975"
     },
     "user_tz": -180
    },
    "id": "osjTu0cwiWit",
    "outputId": "a448dd3e-9100-4d9e-ce0a-d878a11f6fea"
   },
   "outputs": [
    {
     "data": {
      "text/plain": [
       "array([1, 0, 1, 0, 1, 0, 0, 1, 1, 0])"
      ]
     },
     "execution_count": 36,
     "metadata": {
      "tags": []
     },
     "output_type": "execute_result"
    }
   ],
   "source": [
    "loj_model.predict(X)[0:10]"
   ]
  },
  {
   "cell_type": "code",
   "execution_count": 37,
   "metadata": {
    "colab": {
     "base_uri": "https://localhost:8080/"
    },
    "executionInfo": {
     "elapsed": 51,
     "status": "ok",
     "timestamp": 1624182488348,
     "user": {
      "displayName": "Yusuf",
      "photoUrl": "https://lh3.googleusercontent.com/a-/AOh14GiQ6hWUivwANbnwlw7xBR1EdEhqK5p0u_G2GJTcpw=s64",
      "userId": "15697169809797874975"
     },
     "user_tz": -180
    },
    "id": "Rm1YMADFiWit",
    "outputId": "b99dd534-aafb-4754-fab6-76cb79e4275d"
   },
   "outputs": [
    {
     "data": {
      "text/plain": [
       "array([[0.35045457, 0.64954543],\n",
       "       [0.91696714, 0.08303286],\n",
       "       [0.22444087, 0.77555913],\n",
       "       [0.92140042, 0.07859958],\n",
       "       [0.16584029, 0.83415971],\n",
       "       [0.79901575, 0.20098425],\n",
       "       [0.88016705, 0.11983295],\n",
       "       [0.27819813, 0.72180187],\n",
       "       [0.3215012 , 0.6784988 ],\n",
       "       [0.92264531, 0.07735469]])"
      ]
     },
     "execution_count": 37,
     "metadata": {
      "tags": []
     },
     "output_type": "execute_result"
    }
   ],
   "source": [
    "loj_model.predict_proba(X)[0:10][:,0:2]"
   ]
  },
  {
   "cell_type": "code",
   "execution_count": 38,
   "metadata": {
    "colab": {
     "base_uri": "https://localhost:8080/"
    },
    "executionInfo": {
     "elapsed": 48,
     "status": "ok",
     "timestamp": 1624182488350,
     "user": {
      "displayName": "Yusuf",
      "photoUrl": "https://lh3.googleusercontent.com/a-/AOh14GiQ6hWUivwANbnwlw7xBR1EdEhqK5p0u_G2GJTcpw=s64",
      "userId": "15697169809797874975"
     },
     "user_tz": -180
    },
    "id": "e2ihbDjuiWit",
    "outputId": "f0f11053-3984-4782-ed74-d1700d81f2ce"
   },
   "outputs": [
    {
     "data": {
      "text/plain": [
       "0    1\n",
       "1    0\n",
       "2    1\n",
       "3    0\n",
       "4    1\n",
       "5    0\n",
       "6    1\n",
       "7    0\n",
       "8    1\n",
       "9    1\n",
       "Name: Outcome, dtype: int64"
      ]
     },
     "execution_count": 38,
     "metadata": {
      "tags": []
     },
     "output_type": "execute_result"
    }
   ],
   "source": [
    "y[0:10]"
   ]
  },
  {
   "cell_type": "code",
   "execution_count": 39,
   "metadata": {
    "executionInfo": {
     "elapsed": 46,
     "status": "ok",
     "timestamp": 1624182488351,
     "user": {
      "displayName": "Yusuf",
      "photoUrl": "https://lh3.googleusercontent.com/a-/AOh14GiQ6hWUivwANbnwlw7xBR1EdEhqK5p0u_G2GJTcpw=s64",
      "userId": "15697169809797874975"
     },
     "user_tz": -180
    },
    "id": "57UHhClEiWiu"
   },
   "outputs": [],
   "source": [
    "y_probs = loj_model.predict_proba(X)\n",
    "y_probs = y_probs[:,1]"
   ]
  },
  {
   "cell_type": "code",
   "execution_count": 40,
   "metadata": {
    "colab": {
     "base_uri": "https://localhost:8080/"
    },
    "executionInfo": {
     "elapsed": 46,
     "status": "ok",
     "timestamp": 1624182488352,
     "user": {
      "displayName": "Yusuf",
      "photoUrl": "https://lh3.googleusercontent.com/a-/AOh14GiQ6hWUivwANbnwlw7xBR1EdEhqK5p0u_G2GJTcpw=s64",
      "userId": "15697169809797874975"
     },
     "user_tz": -180
    },
    "id": "7VkO7_EhiWiu",
    "outputId": "64fb45ef-74a7-45a0-c9cd-cee9cce80bcd"
   },
   "outputs": [
    {
     "data": {
      "text/plain": [
       "array([0.64954543, 0.08303286, 0.77555913, 0.07859958, 0.83415971,\n",
       "       0.20098425, 0.11983295, 0.72180187, 0.6784988 , 0.07735469])"
      ]
     },
     "execution_count": 40,
     "metadata": {
      "tags": []
     },
     "output_type": "execute_result"
    }
   ],
   "source": [
    "y_probs[0:10]"
   ]
  },
  {
   "cell_type": "code",
   "execution_count": 41,
   "metadata": {
    "executionInfo": {
     "elapsed": 43,
     "status": "ok",
     "timestamp": 1624182488352,
     "user": {
      "displayName": "Yusuf",
      "photoUrl": "https://lh3.googleusercontent.com/a-/AOh14GiQ6hWUivwANbnwlw7xBR1EdEhqK5p0u_G2GJTcpw=s64",
      "userId": "15697169809797874975"
     },
     "user_tz": -180
    },
    "id": "FPq6F3nliWiu"
   },
   "outputs": [],
   "source": [
    "y_pred = [1 if i > 0.5 else 0 for i in y_probs] # we decided the threshold value as 0.5"
   ]
  },
  {
   "cell_type": "code",
   "execution_count": 42,
   "metadata": {
    "colab": {
     "base_uri": "https://localhost:8080/"
    },
    "executionInfo": {
     "elapsed": 42,
     "status": "ok",
     "timestamp": 1624182488352,
     "user": {
      "displayName": "Yusuf",
      "photoUrl": "https://lh3.googleusercontent.com/a-/AOh14GiQ6hWUivwANbnwlw7xBR1EdEhqK5p0u_G2GJTcpw=s64",
      "userId": "15697169809797874975"
     },
     "user_tz": -180
    },
    "id": "3X2b5kLmiWiv",
    "outputId": "c8971115-1762-4036-e924-975e97f8f53b"
   },
   "outputs": [
    {
     "data": {
      "text/plain": [
       "[1, 0, 1, 0, 1, 0, 0, 1, 1, 0]"
      ]
     },
     "execution_count": 42,
     "metadata": {
      "tags": []
     },
     "output_type": "execute_result"
    }
   ],
   "source": [
    "y_pred[0:10]"
   ]
  },
  {
   "cell_type": "code",
   "execution_count": 43,
   "metadata": {
    "colab": {
     "base_uri": "https://localhost:8080/"
    },
    "executionInfo": {
     "elapsed": 39,
     "status": "ok",
     "timestamp": 1624182488353,
     "user": {
      "displayName": "Yusuf",
      "photoUrl": "https://lh3.googleusercontent.com/a-/AOh14GiQ6hWUivwANbnwlw7xBR1EdEhqK5p0u_G2GJTcpw=s64",
      "userId": "15697169809797874975"
     },
     "user_tz": -180
    },
    "id": "jmWmzfVNiWiv",
    "outputId": "53cbea9d-4249-4ae2-b0ef-ca5a3b606d79"
   },
   "outputs": [
    {
     "data": {
      "text/plain": [
       "array([[448,  52],\n",
       "       [120, 148]])"
      ]
     },
     "execution_count": 43,
     "metadata": {
      "tags": []
     },
     "output_type": "execute_result"
    }
   ],
   "source": [
    "confusion_matrix(y, y_pred)"
   ]
  },
  {
   "cell_type": "code",
   "execution_count": 44,
   "metadata": {
    "colab": {
     "base_uri": "https://localhost:8080/"
    },
    "executionInfo": {
     "elapsed": 33,
     "status": "ok",
     "timestamp": 1624182488354,
     "user": {
      "displayName": "Yusuf",
      "photoUrl": "https://lh3.googleusercontent.com/a-/AOh14GiQ6hWUivwANbnwlw7xBR1EdEhqK5p0u_G2GJTcpw=s64",
      "userId": "15697169809797874975"
     },
     "user_tz": -180
    },
    "id": "2sZeCYR4iWiv",
    "outputId": "6d1dd064-f076-4843-cc70-ed67101c4650"
   },
   "outputs": [
    {
     "data": {
      "text/plain": [
       "0.7760416666666666"
      ]
     },
     "execution_count": 44,
     "metadata": {
      "tags": []
     },
     "output_type": "execute_result"
    }
   ],
   "source": [
    "accuracy_score(y, y_pred)"
   ]
  },
  {
   "cell_type": "code",
   "execution_count": 45,
   "metadata": {
    "colab": {
     "base_uri": "https://localhost:8080/"
    },
    "executionInfo": {
     "elapsed": 31,
     "status": "ok",
     "timestamp": 1624182488354,
     "user": {
      "displayName": "Yusuf",
      "photoUrl": "https://lh3.googleusercontent.com/a-/AOh14GiQ6hWUivwANbnwlw7xBR1EdEhqK5p0u_G2GJTcpw=s64",
      "userId": "15697169809797874975"
     },
     "user_tz": -180
    },
    "id": "grnwRoqOiWiv",
    "outputId": "49d65508-494c-4fc7-fd56-91a479234da4"
   },
   "outputs": [
    {
     "name": "stdout",
     "output_type": "stream",
     "text": [
      "              precision    recall  f1-score   support\n",
      "\n",
      "           0       0.79      0.90      0.84       500\n",
      "           1       0.74      0.55      0.63       268\n",
      "\n",
      "    accuracy                           0.78       768\n",
      "   macro avg       0.76      0.72      0.74       768\n",
      "weighted avg       0.77      0.78      0.77       768\n",
      "\n"
     ]
    }
   ],
   "source": [
    "print(classification_report(y, y_pred))"
   ]
  },
  {
   "cell_type": "code",
   "execution_count": 46,
   "metadata": {
    "colab": {
     "base_uri": "https://localhost:8080/"
    },
    "executionInfo": {
     "elapsed": 29,
     "status": "ok",
     "timestamp": 1624182488355,
     "user": {
      "displayName": "Yusuf",
      "photoUrl": "https://lh3.googleusercontent.com/a-/AOh14GiQ6hWUivwANbnwlw7xBR1EdEhqK5p0u_G2GJTcpw=s64",
      "userId": "15697169809797874975"
     },
     "user_tz": -180
    },
    "id": "-kA8fLNmiWiw",
    "outputId": "8b7b0272-6f7c-4556-e6ab-7581f15e4a39"
   },
   "outputs": [
    {
     "data": {
      "text/plain": [
       "array([0.64954543, 0.08303286, 0.77555913, 0.07859958, 0.83415971])"
      ]
     },
     "execution_count": 46,
     "metadata": {
      "tags": []
     },
     "output_type": "execute_result"
    }
   ],
   "source": [
    "loj_model.predict_proba(X)[:,1][0:5]"
   ]
  },
  {
   "cell_type": "code",
   "execution_count": 47,
   "metadata": {
    "colab": {
     "base_uri": "https://localhost:8080/",
     "height": 295
    },
    "executionInfo": {
     "elapsed": 296,
     "status": "ok",
     "timestamp": 1624182488625,
     "user": {
      "displayName": "Yusuf",
      "photoUrl": "https://lh3.googleusercontent.com/a-/AOh14GiQ6hWUivwANbnwlw7xBR1EdEhqK5p0u_G2GJTcpw=s64",
      "userId": "15697169809797874975"
     },
     "user_tz": -180
    },
    "id": "uv4B_c0yiWiw",
    "outputId": "f6fdb4d3-d34e-44e9-8d5d-8a776434d39d"
   },
   "outputs": [
    {
     "data": {
      "image/png": "[encoded data removed]",
      "text/plain": [
       "<Figure size 432x288 with 1 Axes>"
      ]
     },
     "metadata": {
      "needs_background": "light",
      "tags": []
     },
     "output_type": "display_data"
    }
   ],
   "source": [
    "logit_roc_auc = roc_auc_score(y, loj_model.predict(X))\n",
    "\n",
    "fpr, tpr, thresholds = roc_curve(y, loj_model.predict_proba(X)[:,1])\n",
    "plt.figure()\n",
    "plt.plot(fpr, tpr, label='AUC (area = %0.2f)' % logit_roc_auc)\n",
    "plt.plot([0, 1], [0, 1],'r--')\n",
    "plt.xlim([0.0, 1.0])\n",
    "plt.ylim([0.0, 1.05])\n",
    "plt.xlabel('False Positive Oranı')\n",
    "plt.ylabel('True Positive Oranı')\n",
    "plt.title('ROC')\n",
    "plt.show()"
   ]
  },
  {
   "cell_type": "code",
   "execution_count": 48,
   "metadata": {
    "executionInfo": {
     "elapsed": 17,
     "status": "ok",
     "timestamp": 1624182488625,
     "user": {
      "displayName": "Yusuf",
      "photoUrl": "https://lh3.googleusercontent.com/a-/AOh14GiQ6hWUivwANbnwlw7xBR1EdEhqK5p0u_G2GJTcpw=s64",
      "userId": "15697169809797874975"
     },
     "user_tz": -180
    },
    "id": "GEThqUBViWiw"
   },
   "outputs": [],
   "source": [
    "X_train, X_test, y_train, y_test = train_test_split(X, y, \n",
    "                                                    test_size = 0.30, \n",
    "                                                    random_state = 42)\n"
   ]
  },
  {
   "cell_type": "code",
   "execution_count": 49,
   "metadata": {
    "colab": {
     "base_uri": "https://localhost:8080/"
    },
    "executionInfo": {
     "elapsed": 18,
     "status": "ok",
     "timestamp": 1624182488626,
     "user": {
      "displayName": "Yusuf",
      "photoUrl": "https://lh3.googleusercontent.com/a-/AOh14GiQ6hWUivwANbnwlw7xBR1EdEhqK5p0u_G2GJTcpw=s64",
      "userId": "15697169809797874975"
     },
     "user_tz": -180
    },
    "id": "1FwSm5-aiWix",
    "outputId": "18e949f4-5d20-4f92-c372-2b8e60bb6b8d"
   },
   "outputs": [
    {
     "data": {
      "text/plain": [
       "LogisticRegression(C=1.0, class_weight=None, dual=False, fit_intercept=True,\n",
       "                   intercept_scaling=1, l1_ratio=None, max_iter=100,\n",
       "                   multi_class='auto', n_jobs=None, penalty='l2',\n",
       "                   random_state=None, solver='liblinear', tol=0.0001, verbose=0,\n",
       "                   warm_start=False)"
      ]
     },
     "execution_count": 49,
     "metadata": {
      "tags": []
     },
     "output_type": "execute_result"
    }
   ],
   "source": [
    "loj = LogisticRegression(solver = \"liblinear\")\n",
    "loj_model = loj.fit(X_train,y_train)\n",
    "loj_model"
   ]
  },
  {
   "cell_type": "code",
   "execution_count": 50,
   "metadata": {
    "colab": {
     "base_uri": "https://localhost:8080/"
    },
    "executionInfo": {
     "elapsed": 14,
     "status": "ok",
     "timestamp": 1624182488627,
     "user": {
      "displayName": "Yusuf",
      "photoUrl": "https://lh3.googleusercontent.com/a-/AOh14GiQ6hWUivwANbnwlw7xBR1EdEhqK5p0u_G2GJTcpw=s64",
      "userId": "15697169809797874975"
     },
     "user_tz": -180
    },
    "id": "boMpTX4DiWiy",
    "outputId": "6fe15da3-80ac-4f27-8722-d756936f9a0d"
   },
   "outputs": [
    {
     "data": {
      "text/plain": [
       "0.7619047619047619"
      ]
     },
     "execution_count": 50,
     "metadata": {
      "tags": []
     },
     "output_type": "execute_result"
    }
   ],
   "source": [
    "accuracy_score(y_test, loj_model.predict(X_test))"
   ]
  },
  {
   "cell_type": "code",
   "execution_count": 51,
   "metadata": {
    "colab": {
     "base_uri": "https://localhost:8080/"
    },
    "executionInfo": {
     "elapsed": 10,
     "status": "ok",
     "timestamp": 1624182488628,
     "user": {
      "displayName": "Yusuf",
      "photoUrl": "https://lh3.googleusercontent.com/a-/AOh14GiQ6hWUivwANbnwlw7xBR1EdEhqK5p0u_G2GJTcpw=s64",
      "userId": "15697169809797874975"
     },
     "user_tz": -180
    },
    "id": "0mqLwV-aiWiy",
    "outputId": "232746de-5a42-4c63-81bb-1dd21971591c"
   },
   "outputs": [
    {
     "data": {
      "text/plain": [
       "0.7704710144927536"
      ]
     },
     "execution_count": 51,
     "metadata": {
      "tags": []
     },
     "output_type": "execute_result"
    }
   ],
   "source": [
    "cross_val_score(loj_model, X_test, y_test, cv = 10).mean()"
   ]
  },
  {
   "cell_type": "markdown",
   "metadata": {
    "id": "hr4WWvs6iWiz"
   },
   "source": [
    "# Gaussian Naive Bayes"
   ]
  },
  {
   "cell_type": "code",
   "execution_count": 52,
   "metadata": {
    "executionInfo": {
     "elapsed": 28,
     "status": "ok",
     "timestamp": 1624182488886,
     "user": {
      "displayName": "Yusuf",
      "photoUrl": "https://lh3.googleusercontent.com/a-/AOh14GiQ6hWUivwANbnwlw7xBR1EdEhqK5p0u_G2GJTcpw=s64",
      "userId": "15697169809797874975"
     },
     "user_tz": -180
    },
    "id": "tkZy-kTUiWi0"
   },
   "outputs": [],
   "source": [
    "df = diabetes.copy()\n",
    "df = df.dropna()\n",
    "y = df[\"Outcome\"]\n",
    "X = df.drop(['Outcome'], axis=1)\n",
    "X_train, X_test, y_train, y_test = train_test_split(X, y, \n",
    "                                                    test_size=0.30, # distribution is so important\n",
    "                                                    random_state=42)\n",
    "\n"
   ]
  },
  {
   "cell_type": "code",
   "execution_count": 53,
   "metadata": {
    "executionInfo": {
     "elapsed": 29,
     "status": "ok",
     "timestamp": 1624182488887,
     "user": {
      "displayName": "Yusuf",
      "photoUrl": "https://lh3.googleusercontent.com/a-/AOh14GiQ6hWUivwANbnwlw7xBR1EdEhqK5p0u_G2GJTcpw=s64",
      "userId": "15697169809797874975"
     },
     "user_tz": -180
    },
    "id": "-sTRB9-miWi0"
   },
   "outputs": [],
   "source": [
    "from sklearn.naive_bayes import GaussianNB"
   ]
  },
  {
   "cell_type": "code",
   "execution_count": 54,
   "metadata": {
    "colab": {
     "base_uri": "https://localhost:8080/"
    },
    "executionInfo": {
     "elapsed": 29,
     "status": "ok",
     "timestamp": 1624182488888,
     "user": {
      "displayName": "Yusuf",
      "photoUrl": "https://lh3.googleusercontent.com/a-/AOh14GiQ6hWUivwANbnwlw7xBR1EdEhqK5p0u_G2GJTcpw=s64",
      "userId": "15697169809797874975"
     },
     "user_tz": -180
    },
    "id": "EBHIVua3iWi1",
    "outputId": "04e8fcc9-e87a-493b-c5ef-c84657936c0a"
   },
   "outputs": [
    {
     "data": {
      "text/plain": [
       "GaussianNB(priors=None, var_smoothing=1e-09)"
      ]
     },
     "execution_count": 54,
     "metadata": {
      "tags": []
     },
     "output_type": "execute_result"
    }
   ],
   "source": [
    "nb = GaussianNB()\n",
    "nb_model = nb.fit(X_train, y_train)\n",
    "nb_model"
   ]
  },
  {
   "cell_type": "code",
   "execution_count": 55,
   "metadata": {
    "colab": {
     "base_uri": "https://localhost:8080/"
    },
    "executionInfo": {
     "elapsed": 28,
     "status": "ok",
     "timestamp": 1624182488889,
     "user": {
      "displayName": "Yusuf",
      "photoUrl": "https://lh3.googleusercontent.com/a-/AOh14GiQ6hWUivwANbnwlw7xBR1EdEhqK5p0u_G2GJTcpw=s64",
      "userId": "15697169809797874975"
     },
     "user_tz": -180
    },
    "id": "uSAUWzAziWi1",
    "outputId": "d7bb3106-251e-4c1e-a638-e44d45007f05"
   },
   "outputs": [
    {
     "data": {
      "text/plain": [
       "array([0, 0, 0, 0, 1, 1, 0, 0, 0, 1])"
      ]
     },
     "execution_count": 55,
     "metadata": {
      "tags": []
     },
     "output_type": "execute_result"
    }
   ],
   "source": [
    "nb_model.predict(X_test)[0:10]"
   ]
  },
  {
   "cell_type": "code",
   "execution_count": 56,
   "metadata": {
    "colab": {
     "base_uri": "https://localhost:8080/"
    },
    "executionInfo": {
     "elapsed": 27,
     "status": "ok",
     "timestamp": 1624182488890,
     "user": {
      "displayName": "Yusuf",
      "photoUrl": "https://lh3.googleusercontent.com/a-/AOh14GiQ6hWUivwANbnwlw7xBR1EdEhqK5p0u_G2GJTcpw=s64",
      "userId": "15697169809797874975"
     },
     "user_tz": -180
    },
    "id": "vQwfZ8JWiWi2",
    "outputId": "8145db08-9960-40ea-a7de-17eb0ef34d9e"
   },
   "outputs": [
    {
     "data": {
      "text/plain": [
       "array([[0.73815858, 0.26184142],\n",
       "       [0.94027894, 0.05972106],\n",
       "       [0.97242831, 0.02757169],\n",
       "       [0.82840069, 0.17159931],\n",
       "       [0.47153473, 0.52846527],\n",
       "       [0.47274458, 0.52725542],\n",
       "       [0.99607705, 0.00392295],\n",
       "       [0.69925055, 0.30074945],\n",
       "       [0.53838117, 0.46161883],\n",
       "       [0.25004536, 0.74995464]])"
      ]
     },
     "execution_count": 56,
     "metadata": {
      "tags": []
     },
     "output_type": "execute_result"
    }
   ],
   "source": [
    "nb_model.predict_proba(X_test)[0:10]"
   ]
  },
  {
   "cell_type": "code",
   "execution_count": 57,
   "metadata": {
    "executionInfo": {
     "elapsed": 24,
     "status": "ok",
     "timestamp": 1624182488891,
     "user": {
      "displayName": "Yusuf",
      "photoUrl": "https://lh3.googleusercontent.com/a-/AOh14GiQ6hWUivwANbnwlw7xBR1EdEhqK5p0u_G2GJTcpw=s64",
      "userId": "15697169809797874975"
     },
     "user_tz": -180
    },
    "id": "TbBALgZ_iWi2"
   },
   "outputs": [],
   "source": [
    "y_pred = nb_model.predict(X_test)"
   ]
  },
  {
   "cell_type": "code",
   "execution_count": 58,
   "metadata": {
    "colab": {
     "base_uri": "https://localhost:8080/"
    },
    "executionInfo": {
     "elapsed": 24,
     "status": "ok",
     "timestamp": 1624182488892,
     "user": {
      "displayName": "Yusuf",
      "photoUrl": "https://lh3.googleusercontent.com/a-/AOh14GiQ6hWUivwANbnwlw7xBR1EdEhqK5p0u_G2GJTcpw=s64",
      "userId": "15697169809797874975"
     },
     "user_tz": -180
    },
    "id": "tTf0cloaiWi2",
    "outputId": "bd7dc613-6378-45fa-f54d-2beab7611adf"
   },
   "outputs": [
    {
     "data": {
      "text/plain": [
       "0.7445887445887446"
      ]
     },
     "execution_count": 58,
     "metadata": {
      "tags": []
     },
     "output_type": "execute_result"
    }
   ],
   "source": [
    "accuracy_score(y_test, y_pred)"
   ]
  },
  {
   "cell_type": "code",
   "execution_count": 59,
   "metadata": {
    "colab": {
     "base_uri": "https://localhost:8080/"
    },
    "executionInfo": {
     "elapsed": 22,
     "status": "ok",
     "timestamp": 1624182488893,
     "user": {
      "displayName": "Yusuf",
      "photoUrl": "https://lh3.googleusercontent.com/a-/AOh14GiQ6hWUivwANbnwlw7xBR1EdEhqK5p0u_G2GJTcpw=s64",
      "userId": "15697169809797874975"
     },
     "user_tz": -180
    },
    "id": "cF6h5Md7iWi3",
    "outputId": "21fd81d1-2841-425c-bc2b-d2bcc3bcae1e"
   },
   "outputs": [
    {
     "data": {
      "text/plain": [
       "0.775"
      ]
     },
     "execution_count": 59,
     "metadata": {
      "tags": []
     },
     "output_type": "execute_result"
    }
   ],
   "source": [
    "cross_val_score(nb_model, X_test, y_test, cv = 10).mean()"
   ]
  },
  {
   "cell_type": "markdown",
   "metadata": {
    "id": "OCmjDBwPj3mX"
   },
   "source": [
    "# KNN"
   ]
  },
  {
   "cell_type": "code",
   "execution_count": 60,
   "metadata": {
    "executionInfo": {
     "elapsed": 19,
     "status": "ok",
     "timestamp": 1624182488893,
     "user": {
      "displayName": "Yusuf",
      "photoUrl": "https://lh3.googleusercontent.com/a-/AOh14GiQ6hWUivwANbnwlw7xBR1EdEhqK5p0u_G2GJTcpw=s64",
      "userId": "15697169809797874975"
     },
     "user_tz": -180
    },
    "id": "Yu3PDfMyj5I6"
   },
   "outputs": [],
   "source": [
    "# model and prediction"
   ]
  },
  {
   "cell_type": "code",
   "execution_count": 61,
   "metadata": {
    "colab": {
     "base_uri": "https://localhost:8080/"
    },
    "executionInfo": {
     "elapsed": 20,
     "status": "ok",
     "timestamp": 1624182488894,
     "user": {
      "displayName": "Yusuf",
      "photoUrl": "https://lh3.googleusercontent.com/a-/AOh14GiQ6hWUivwANbnwlw7xBR1EdEhqK5p0u_G2GJTcpw=s64",
      "userId": "15697169809797874975"
     },
     "user_tz": -180
    },
    "id": "w0olGi7oj8qT",
    "outputId": "02617677-3a74-44f2-d8e5-e44ac56c5405"
   },
   "outputs": [
    {
     "name": "stdout",
     "output_type": "stream",
     "text": [
      "<class 'pandas.core.frame.DataFrame'>\n",
      "Int64Index: 768 entries, 0 to 767\n",
      "Data columns (total 9 columns):\n",
      " #   Column                    Non-Null Count  Dtype  \n",
      "---  ------                    --------------  -----  \n",
      " 0   Pregnancies               768 non-null    int64  \n",
      " 1   Glucose                   768 non-null    int64  \n",
      " 2   BloodPressure             768 non-null    int64  \n",
      " 3   SkinThickness             768 non-null    int64  \n",
      " 4   Insulin                   768 non-null    int64  \n",
      " 5   BMI                       768 non-null    float64\n",
      " 6   DiabetesPedigreeFunction  768 non-null    float64\n",
      " 7   Age                       768 non-null    int64  \n",
      " 8   Outcome                   768 non-null    int64  \n",
      "dtypes: float64(2), int64(7)\n",
      "memory usage: 60.0 KB\n"
     ]
    }
   ],
   "source": [
    "dia=pd.read_csv(\"diabetes.csv\")\n",
    "df=dia.copy()\n",
    "df=df.dropna()\n",
    "y=df[\"Outcome\"]\n",
    "X=df.drop([\"Outcome\"],axis=1)\n",
    "X_train,X_test,y_train,y_test=train_test_split(X,y,test_size=0.3,\n",
    "                                              random_state=42)\n",
    "df.info()"
   ]
  },
  {
   "cell_type": "code",
   "execution_count": 62,
   "metadata": {
    "colab": {
     "base_uri": "https://localhost:8080/",
     "height": 332
    },
    "executionInfo": {
     "elapsed": 18,
     "status": "ok",
     "timestamp": 1624182488894,
     "user": {
      "displayName": "Yusuf",
      "photoUrl": "https://lh3.googleusercontent.com/a-/AOh14GiQ6hWUivwANbnwlw7xBR1EdEhqK5p0u_G2GJTcpw=s64",
      "userId": "15697169809797874975"
     },
     "user_tz": -180
    },
    "id": "XQCgyJN4j9jx",
    "outputId": "3f11f93b-5570-4cdc-caa9-712cc1d9460d"
   },
   "outputs": [
    {
     "data": {
      "text/html": [
       "<div>\n",
       "<style scoped>\n",
       "    .dataframe tbody tr th:only-of-type {\n",
       "        vertical-align: middle;\n",
       "    }\n",
       "\n",
       "    .dataframe tbody tr th {\n",
       "        vertical-align: top;\n",
       "    }\n",
       "\n",
       "    .dataframe thead th {\n",
       "        text-align: right;\n",
       "    }\n",
       "</style>\n",
       "<table border=\"1\" class=\"dataframe\">\n",
       "  <thead>\n",
       "    <tr style=\"text-align: right;\">\n",
       "      <th></th>\n",
       "      <th>count</th>\n",
       "      <th>mean</th>\n",
       "      <th>std</th>\n",
       "      <th>min</th>\n",
       "      <th>25%</th>\n",
       "      <th>50%</th>\n",
       "      <th>75%</th>\n",
       "      <th>max</th>\n",
       "    </tr>\n",
       "  </thead>\n",
       "  <tbody>\n",
       "    <tr>\n",
       "      <th>Pregnancies</th>\n",
       "      <td>768.0</td>\n",
       "      <td>3.845052</td>\n",
       "      <td>3.369578</td>\n",
       "      <td>0.000</td>\n",
       "      <td>1.00000</td>\n",
       "      <td>3.0000</td>\n",
       "      <td>6.00000</td>\n",
       "      <td>17.00</td>\n",
       "    </tr>\n",
       "    <tr>\n",
       "      <th>Glucose</th>\n",
       "      <td>768.0</td>\n",
       "      <td>120.894531</td>\n",
       "      <td>31.972618</td>\n",
       "      <td>0.000</td>\n",
       "      <td>99.00000</td>\n",
       "      <td>117.0000</td>\n",
       "      <td>140.25000</td>\n",
       "      <td>199.00</td>\n",
       "    </tr>\n",
       "    <tr>\n",
       "      <th>BloodPressure</th>\n",
       "      <td>768.0</td>\n",
       "      <td>69.105469</td>\n",
       "      <td>19.355807</td>\n",
       "      <td>0.000</td>\n",
       "      <td>62.00000</td>\n",
       "      <td>72.0000</td>\n",
       "      <td>80.00000</td>\n",
       "      <td>122.00</td>\n",
       "    </tr>\n",
       "    <tr>\n",
       "      <th>SkinThickness</th>\n",
       "      <td>768.0</td>\n",
       "      <td>20.536458</td>\n",
       "      <td>15.952218</td>\n",
       "      <td>0.000</td>\n",
       "      <td>0.00000</td>\n",
       "      <td>23.0000</td>\n",
       "      <td>32.00000</td>\n",
       "      <td>99.00</td>\n",
       "    </tr>\n",
       "    <tr>\n",
       "      <th>Insulin</th>\n",
       "      <td>768.0</td>\n",
       "      <td>79.799479</td>\n",
       "      <td>115.244002</td>\n",
       "      <td>0.000</td>\n",
       "      <td>0.00000</td>\n",
       "      <td>30.5000</td>\n",
       "      <td>127.25000</td>\n",
       "      <td>846.00</td>\n",
       "    </tr>\n",
       "    <tr>\n",
       "      <th>BMI</th>\n",
       "      <td>768.0</td>\n",
       "      <td>31.992578</td>\n",
       "      <td>7.884160</td>\n",
       "      <td>0.000</td>\n",
       "      <td>27.30000</td>\n",
       "      <td>32.0000</td>\n",
       "      <td>36.60000</td>\n",
       "      <td>67.10</td>\n",
       "    </tr>\n",
       "    <tr>\n",
       "      <th>DiabetesPedigreeFunction</th>\n",
       "      <td>768.0</td>\n",
       "      <td>0.471876</td>\n",
       "      <td>0.331329</td>\n",
       "      <td>0.078</td>\n",
       "      <td>0.24375</td>\n",
       "      <td>0.3725</td>\n",
       "      <td>0.62625</td>\n",
       "      <td>2.42</td>\n",
       "    </tr>\n",
       "    <tr>\n",
       "      <th>Age</th>\n",
       "      <td>768.0</td>\n",
       "      <td>33.240885</td>\n",
       "      <td>11.760232</td>\n",
       "      <td>21.000</td>\n",
       "      <td>24.00000</td>\n",
       "      <td>29.0000</td>\n",
       "      <td>41.00000</td>\n",
       "      <td>81.00</td>\n",
       "    </tr>\n",
       "    <tr>\n",
       "      <th>Outcome</th>\n",
       "      <td>768.0</td>\n",
       "      <td>0.348958</td>\n",
       "      <td>0.476951</td>\n",
       "      <td>0.000</td>\n",
       "      <td>0.00000</td>\n",
       "      <td>0.0000</td>\n",
       "      <td>1.00000</td>\n",
       "      <td>1.00</td>\n",
       "    </tr>\n",
       "  </tbody>\n",
       "</table>\n",
       "</div>"
      ],
      "text/plain": [
       "                          count        mean  ...        75%     max\n",
       "Pregnancies               768.0    3.845052  ...    6.00000   17.00\n",
       "Glucose                   768.0  120.894531  ...  140.25000  199.00\n",
       "BloodPressure             768.0   69.105469  ...   80.00000  122.00\n",
       "SkinThickness             768.0   20.536458  ...   32.00000   99.00\n",
       "Insulin                   768.0   79.799479  ...  127.25000  846.00\n",
       "BMI                       768.0   31.992578  ...   36.60000   67.10\n",
       "DiabetesPedigreeFunction  768.0    0.471876  ...    0.62625    2.42\n",
       "Age                       768.0   33.240885  ...   41.00000   81.00\n",
       "Outcome                   768.0    0.348958  ...    1.00000    1.00\n",
       "\n",
       "[9 rows x 8 columns]"
      ]
     },
     "execution_count": 62,
     "metadata": {
      "tags": []
     },
     "output_type": "execute_result"
    }
   ],
   "source": [
    "df.describe().T"
   ]
  },
  {
   "cell_type": "code",
   "execution_count": 63,
   "metadata": {
    "colab": {
     "base_uri": "https://localhost:8080/"
    },
    "executionInfo": {
     "elapsed": 277,
     "status": "ok",
     "timestamp": 1624182489155,
     "user": {
      "displayName": "Yusuf",
      "photoUrl": "https://lh3.googleusercontent.com/a-/AOh14GiQ6hWUivwANbnwlw7xBR1EdEhqK5p0u_G2GJTcpw=s64",
      "userId": "15697169809797874975"
     },
     "user_tz": -180
    },
    "id": "XZP6qf5Oj9mc",
    "outputId": "db7fadd3-dfed-41c2-dbc4-ff65d1725e4f"
   },
   "outputs": [
    {
     "data": {
      "text/plain": [
       "0    500\n",
       "1    268\n",
       "Name: Outcome, dtype: int64"
      ]
     },
     "execution_count": 63,
     "metadata": {
      "tags": []
     },
     "output_type": "execute_result"
    }
   ],
   "source": [
    "df[\"Outcome\"].value_counts()"
   ]
  },
  {
   "cell_type": "code",
   "execution_count": 64,
   "metadata": {
    "colab": {
     "base_uri": "https://localhost:8080/"
    },
    "executionInfo": {
     "elapsed": 16,
     "status": "ok",
     "timestamp": 1624182489155,
     "user": {
      "displayName": "Yusuf",
      "photoUrl": "https://lh3.googleusercontent.com/a-/AOh14GiQ6hWUivwANbnwlw7xBR1EdEhqK5p0u_G2GJTcpw=s64",
      "userId": "15697169809797874975"
     },
     "user_tz": -180
    },
    "id": "hxqNRUcAj9op",
    "outputId": "2a428b59-0170-4db2-822f-7b8e3f0593e1"
   },
   "outputs": [
    {
     "data": {
      "text/plain": [
       "KNeighborsClassifier(algorithm='auto', leaf_size=30, metric='minkowski',\n",
       "                     metric_params=None, n_jobs=None, n_neighbors=5, p=2,\n",
       "                     weights='uniform')"
      ]
     },
     "execution_count": 64,
     "metadata": {
      "tags": []
     },
     "output_type": "execute_result"
    }
   ],
   "source": [
    "knn=KNeighborsClassifier()\n",
    "knn_model=knn.fit(X_train,y_train)\n",
    "knn_model"
   ]
  },
  {
   "cell_type": "code",
   "execution_count": 65,
   "metadata": {
    "executionInfo": {
     "elapsed": 14,
     "status": "ok",
     "timestamp": 1624182489155,
     "user": {
      "displayName": "Yusuf",
      "photoUrl": "https://lh3.googleusercontent.com/a-/AOh14GiQ6hWUivwANbnwlw7xBR1EdEhqK5p0u_G2GJTcpw=s64",
      "userId": "15697169809797874975"
     },
     "user_tz": -180
    },
    "id": "hZikcT2Gj9rl"
   },
   "outputs": [],
   "source": [
    "y_pred=knn_model.predict(X_test)"
   ]
  },
  {
   "cell_type": "code",
   "execution_count": 66,
   "metadata": {
    "colab": {
     "base_uri": "https://localhost:8080/"
    },
    "executionInfo": {
     "elapsed": 14,
     "status": "ok",
     "timestamp": 1624182489156,
     "user": {
      "displayName": "Yusuf",
      "photoUrl": "https://lh3.googleusercontent.com/a-/AOh14GiQ6hWUivwANbnwlw7xBR1EdEhqK5p0u_G2GJTcpw=s64",
      "userId": "15697169809797874975"
     },
     "user_tz": -180
    },
    "id": "Rj5Kp48Zj9ue",
    "outputId": "d03f42b0-e01b-4533-cac2-508119ba53ac"
   },
   "outputs": [
    {
     "data": {
      "text/plain": [
       "0.6883116883116883"
      ]
     },
     "execution_count": 66,
     "metadata": {
      "tags": []
     },
     "output_type": "execute_result"
    }
   ],
   "source": [
    "accuracy_score(y_test,y_pred)"
   ]
  },
  {
   "cell_type": "code",
   "execution_count": 67,
   "metadata": {
    "colab": {
     "base_uri": "https://localhost:8080/"
    },
    "executionInfo": {
     "elapsed": 11,
     "status": "ok",
     "timestamp": 1624182489156,
     "user": {
      "displayName": "Yusuf",
      "photoUrl": "https://lh3.googleusercontent.com/a-/AOh14GiQ6hWUivwANbnwlw7xBR1EdEhqK5p0u_G2GJTcpw=s64",
      "userId": "15697169809797874975"
     },
     "user_tz": -180
    },
    "id": "w3jfbxV7j9xD",
    "outputId": "d6bf0465-44ba-48af-e29f-c2ba0f0154b5"
   },
   "outputs": [
    {
     "name": "stdout",
     "output_type": "stream",
     "text": [
      "              precision    recall  f1-score   support\n",
      "\n",
      "           0       0.77      0.75      0.76       151\n",
      "           1       0.55      0.56      0.56        80\n",
      "\n",
      "    accuracy                           0.69       231\n",
      "   macro avg       0.66      0.66      0.66       231\n",
      "weighted avg       0.69      0.69      0.69       231\n",
      "\n"
     ]
    }
   ],
   "source": [
    "print(classification_report(y_test,y_pred))"
   ]
  },
  {
   "cell_type": "code",
   "execution_count": 68,
   "metadata": {
    "executionInfo": {
     "elapsed": 8,
     "status": "ok",
     "timestamp": 1624182489156,
     "user": {
      "displayName": "Yusuf",
      "photoUrl": "https://lh3.googleusercontent.com/a-/AOh14GiQ6hWUivwANbnwlw7xBR1EdEhqK5p0u_G2GJTcpw=s64",
      "userId": "15697169809797874975"
     },
     "user_tz": -180
    },
    "id": "jE9_5AbBj9zx"
   },
   "outputs": [],
   "source": [
    "knn_params = {\"n_neighbors\": np.arange(1,50)}"
   ]
  },
  {
   "cell_type": "code",
   "execution_count": 69,
   "metadata": {
    "colab": {
     "base_uri": "https://localhost:8080/"
    },
    "executionInfo": {
     "elapsed": 2778,
     "status": "ok",
     "timestamp": 1624182491927,
     "user": {
      "displayName": "Yusuf",
      "photoUrl": "https://lh3.googleusercontent.com/a-/AOh14GiQ6hWUivwANbnwlw7xBR1EdEhqK5p0u_G2GJTcpw=s64",
      "userId": "15697169809797874975"
     },
     "user_tz": -180
    },
    "id": "kvjEUPXtj92h",
    "outputId": "9d247b5b-70df-4999-d632-7111d49dc528"
   },
   "outputs": [
    {
     "data": {
      "text/plain": [
       "GridSearchCV(cv=10, error_score=nan,\n",
       "             estimator=KNeighborsClassifier(algorithm='auto', leaf_size=30,\n",
       "                                            metric='minkowski',\n",
       "                                            metric_params=None, n_jobs=None,\n",
       "                                            n_neighbors=5, p=2,\n",
       "                                            weights='uniform'),\n",
       "             iid='deprecated', n_jobs=None,\n",
       "             param_grid={'n_neighbors': array([ 1,  2,  3,  4,  5,  6,  7,  8,  9, 10, 11, 12, 13, 14, 15, 16, 17,\n",
       "       18, 19, 20, 21, 22, 23, 24, 25, 26, 27, 28, 29, 30, 31, 32, 33, 34,\n",
       "       35, 36, 37, 38, 39, 40, 41, 42, 43, 44, 45, 46, 47, 48, 49])},\n",
       "             pre_dispatch='2*n_jobs', refit=True, return_train_score=False,\n",
       "             scoring=None, verbose=0)"
      ]
     },
     "execution_count": 69,
     "metadata": {
      "tags": []
     },
     "output_type": "execute_result"
    }
   ],
   "source": [
    "knn = KNeighborsClassifier()\n",
    "knn_cv = GridSearchCV(knn, knn_params, cv=10)\n",
    "knn_cv.fit(X_train, y_train)"
   ]
  },
  {
   "cell_type": "code",
   "execution_count": 70,
   "metadata": {
    "colab": {
     "base_uri": "https://localhost:8080/"
    },
    "executionInfo": {
     "elapsed": 26,
     "status": "ok",
     "timestamp": 1624182491928,
     "user": {
      "displayName": "Yusuf",
      "photoUrl": "https://lh3.googleusercontent.com/a-/AOh14GiQ6hWUivwANbnwlw7xBR1EdEhqK5p0u_G2GJTcpw=s64",
      "userId": "15697169809797874975"
     },
     "user_tz": -180
    },
    "id": "77Q3jrtuj95Z",
    "outputId": "df20a744-c70a-4fbb-c0f9-1c110f3b3be4"
   },
   "outputs": [
    {
     "name": "stdout",
     "output_type": "stream",
     "text": [
      "The Best Score :0.748637316561845\n",
      "The Best Parameters: {'n_neighbors': 11}\n"
     ]
    }
   ],
   "source": [
    "print(\"The Best Score :\" + str(knn_cv.best_score_))\n",
    "print(\"The Best Parameters: \" + str(knn_cv.best_params_))"
   ]
  },
  {
   "cell_type": "code",
   "execution_count": 71,
   "metadata": {
    "executionInfo": {
     "elapsed": 23,
     "status": "ok",
     "timestamp": 1624182491928,
     "user": {
      "displayName": "Yusuf",
      "photoUrl": "https://lh3.googleusercontent.com/a-/AOh14GiQ6hWUivwANbnwlw7xBR1EdEhqK5p0u_G2GJTcpw=s64",
      "userId": "15697169809797874975"
     },
     "user_tz": -180
    },
    "id": "HH4HOgxvj97w"
   },
   "outputs": [],
   "source": [
    "knn = KNeighborsClassifier(11)\n",
    "knn_tuned = knn.fit(X_train, y_train)"
   ]
  },
  {
   "cell_type": "code",
   "execution_count": 72,
   "metadata": {
    "colab": {
     "base_uri": "https://localhost:8080/"
    },
    "executionInfo": {
     "elapsed": 21,
     "status": "ok",
     "timestamp": 1624182491928,
     "user": {
      "displayName": "Yusuf",
      "photoUrl": "https://lh3.googleusercontent.com/a-/AOh14GiQ6hWUivwANbnwlw7xBR1EdEhqK5p0u_G2GJTcpw=s64",
      "userId": "15697169809797874975"
     },
     "user_tz": -180
    },
    "id": "krRp9k0Wj9-Y",
    "outputId": "3b9c7980-87d1-4b36-9b41-393780cedf67"
   },
   "outputs": [
    {
     "data": {
      "text/plain": [
       "0.7316017316017316"
      ]
     },
     "execution_count": 72,
     "metadata": {
      "tags": []
     },
     "output_type": "execute_result"
    }
   ],
   "source": [
    "knn_tuned.score(X_test, y_test)"
   ]
  },
  {
   "cell_type": "code",
   "execution_count": 73,
   "metadata": {
    "executionInfo": {
     "elapsed": 19,
     "status": "ok",
     "timestamp": 1624182491929,
     "user": {
      "displayName": "Yusuf",
      "photoUrl": "https://lh3.googleusercontent.com/a-/AOh14GiQ6hWUivwANbnwlw7xBR1EdEhqK5p0u_G2GJTcpw=s64",
      "userId": "15697169809797874975"
     },
     "user_tz": -180
    },
    "id": "5IrZ7Aprj-BA"
   },
   "outputs": [],
   "source": [
    "y_pred = knn_tuned.predict(X_test)"
   ]
  },
  {
   "cell_type": "code",
   "execution_count": 74,
   "metadata": {
    "colab": {
     "base_uri": "https://localhost:8080/"
    },
    "executionInfo": {
     "elapsed": 19,
     "status": "ok",
     "timestamp": 1624182491929,
     "user": {
      "displayName": "Yusuf",
      "photoUrl": "https://lh3.googleusercontent.com/a-/AOh14GiQ6hWUivwANbnwlw7xBR1EdEhqK5p0u_G2GJTcpw=s64",
      "userId": "15697169809797874975"
     },
     "user_tz": -180
    },
    "id": "D4_ZprvykKRg",
    "outputId": "46e5177c-2d9e-4fa0-ab34-5d61e4094c13"
   },
   "outputs": [
    {
     "data": {
      "text/plain": [
       "0.7316017316017316"
      ]
     },
     "execution_count": 74,
     "metadata": {
      "tags": []
     },
     "output_type": "execute_result"
    }
   ],
   "source": [
    "accuracy_score(y_test, y_pred)"
   ]
  },
  {
   "cell_type": "markdown",
   "metadata": {
    "id": "6Nrg_EwTkMeG"
   },
   "source": [
    " # SVC"
   ]
  },
  {
   "cell_type": "code",
   "execution_count": 75,
   "metadata": {
    "colab": {
     "base_uri": "https://localhost:8080/"
    },
    "executionInfo": {
     "elapsed": 15,
     "status": "ok",
     "timestamp": 1624182491931,
     "user": {
      "displayName": "Yusuf",
      "photoUrl": "https://lh3.googleusercontent.com/a-/AOh14GiQ6hWUivwANbnwlw7xBR1EdEhqK5p0u_G2GJTcpw=s64",
      "userId": "15697169809797874975"
     },
     "user_tz": -180
    },
    "id": "dijEo8G4kKZZ",
    "outputId": "b6c7e64b-416f-412d-9dd7-b2ba32af1428"
   },
   "outputs": [
    {
     "name": "stdout",
     "output_type": "stream",
     "text": [
      "<class 'pandas.core.frame.DataFrame'>\n",
      "Int64Index: 768 entries, 0 to 767\n",
      "Data columns (total 9 columns):\n",
      " #   Column                    Non-Null Count  Dtype  \n",
      "---  ------                    --------------  -----  \n",
      " 0   Pregnancies               768 non-null    int64  \n",
      " 1   Glucose                   768 non-null    int64  \n",
      " 2   BloodPressure             768 non-null    int64  \n",
      " 3   SkinThickness             768 non-null    int64  \n",
      " 4   Insulin                   768 non-null    int64  \n",
      " 5   BMI                       768 non-null    float64\n",
      " 6   DiabetesPedigreeFunction  768 non-null    float64\n",
      " 7   Age                       768 non-null    int64  \n",
      " 8   Outcome                   768 non-null    int64  \n",
      "dtypes: float64(2), int64(7)\n",
      "memory usage: 60.0 KB\n"
     ]
    }
   ],
   "source": [
    "dia=pd.read_csv(\"diabetes.csv\")\n",
    "df=dia.copy()\n",
    "df=df.dropna()\n",
    "y=df[\"Outcome\"]\n",
    "X=df.drop([\"Outcome\"],axis=1)\n",
    "X_train,X_test,y_train,y_test=train_test_split(X,y,test_size=0.3,\n",
    "                                              random_state=42)\n",
    "df.info()"
   ]
  },
  {
   "cell_type": "code",
   "execution_count": 76,
   "metadata": {
    "executionInfo": {
     "elapsed": 3106,
     "status": "ok",
     "timestamp": 1624182495025,
     "user": {
      "displayName": "Yusuf",
      "photoUrl": "https://lh3.googleusercontent.com/a-/AOh14GiQ6hWUivwANbnwlw7xBR1EdEhqK5p0u_G2GJTcpw=s64",
      "userId": "15697169809797874975"
     },
     "user_tz": -180
    },
    "id": "7cPwRBdPkKcH"
   },
   "outputs": [],
   "source": [
    "svm_model = SVC(kernel = \"linear\").fit(X_train, y_train)"
   ]
  },
  {
   "cell_type": "code",
   "execution_count": 77,
   "metadata": {
    "executionInfo": {
     "elapsed": 9,
     "status": "ok",
     "timestamp": 1624182495026,
     "user": {
      "displayName": "Yusuf",
      "photoUrl": "https://lh3.googleusercontent.com/a-/AOh14GiQ6hWUivwANbnwlw7xBR1EdEhqK5p0u_G2GJTcpw=s64",
      "userId": "15697169809797874975"
     },
     "user_tz": -180
    },
    "id": "09R4Of4okKe3"
   },
   "outputs": [],
   "source": [
    "y_pred = svm_model.predict(X_test)"
   ]
  },
  {
   "cell_type": "code",
   "execution_count": 78,
   "metadata": {
    "colab": {
     "base_uri": "https://localhost:8080/"
    },
    "executionInfo": {
     "elapsed": 8,
     "status": "ok",
     "timestamp": 1624182495027,
     "user": {
      "displayName": "Yusuf",
      "photoUrl": "https://lh3.googleusercontent.com/a-/AOh14GiQ6hWUivwANbnwlw7xBR1EdEhqK5p0u_G2GJTcpw=s64",
      "userId": "15697169809797874975"
     },
     "user_tz": -180
    },
    "id": "ARHbrriFkKhu",
    "outputId": "a349cd0f-6ab6-4c5c-d91d-ba8320bc2c73"
   },
   "outputs": [
    {
     "data": {
      "text/plain": [
       "0.7445887445887446"
      ]
     },
     "execution_count": 78,
     "metadata": {
      "tags": []
     },
     "output_type": "execute_result"
    }
   ],
   "source": [
    "accuracy_score(y_test, y_pred)"
   ]
  },
  {
   "cell_type": "code",
   "execution_count": 79,
   "metadata": {
    "executionInfo": {
     "elapsed": 7,
     "status": "ok",
     "timestamp": 1624182495027,
     "user": {
      "displayName": "Yusuf",
      "photoUrl": "https://lh3.googleusercontent.com/a-/AOh14GiQ6hWUivwANbnwlw7xBR1EdEhqK5p0u_G2GJTcpw=s64",
      "userId": "15697169809797874975"
     },
     "user_tz": -180
    },
    "id": "crWYoZgjkKkS"
   },
   "outputs": [],
   "source": [
    "# model tuning"
   ]
  },
  {
   "cell_type": "code",
   "execution_count": 82,
   "metadata": {
    "colab": {
     "base_uri": "https://localhost:8080/"
    },
    "executionInfo": {
     "elapsed": 1102906,
     "status": "ok",
     "timestamp": 1624183598467,
     "user": {
      "displayName": "Yusuf",
      "photoUrl": "https://lh3.googleusercontent.com/a-/AOh14GiQ6hWUivwANbnwlw7xBR1EdEhqK5p0u_G2GJTcpw=s64",
      "userId": "15697169809797874975"
     },
     "user_tz": -180
    },
    "id": "rNYBC5DikKm-",
    "outputId": "50f3930f-9f3c-485a-9d62-0d37b4c3e26c"
   },
   "outputs": [
    {
     "name": "stdout",
     "output_type": "stream",
     "text": [
      "Fitting 10 folds for each of 9 candidates, totalling 90 fits\n"
     ]
    },
    {
     "name": "stderr",
     "output_type": "stream",
     "text": [
      "[Parallel(n_jobs=-1)]: Using backend LokyBackend with 2 concurrent workers.\n",
      "[Parallel(n_jobs=-1)]: Done  37 tasks      | elapsed:  3.4min\n",
      "[Parallel(n_jobs=-1)]: Done  90 out of  90 | elapsed: 18.1min finished\n"
     ]
    },
    {
     "data": {
      "text/plain": [
       "GridSearchCV(cv=10, error_score=nan,\n",
       "             estimator=SVC(C=1.0, break_ties=False, cache_size=200,\n",
       "                           class_weight=None, coef0=0.0,\n",
       "                           decision_function_shape='ovr', degree=3,\n",
       "                           gamma='scale', kernel='linear', max_iter=-1,\n",
       "                           probability=False, random_state=None, shrinking=True,\n",
       "                           tol=0.001, verbose=False),\n",
       "             iid='deprecated', n_jobs=-1,\n",
       "             param_grid={'C': array([1, 2, 3, 4, 5, 6, 7, 8, 9])},\n",
       "             pre_dispatch='2*n_jobs', refit=True, return_train_score=False,\n",
       "             scoring=None, verbose=2)"
      ]
     },
     "execution_count": 82,
     "metadata": {
      "tags": []
     },
     "output_type": "execute_result"
    }
   ],
   "source": [
    "svc_params = {\"C\": np.arange(1,10)} # it couldn't be 0\n",
    "\n",
    "svc = SVC(kernel = \"linear\")\n",
    "\n",
    "svc_cv_model = GridSearchCV(svc,svc_params, \n",
    "                            cv = 10, \n",
    "                            n_jobs = -1, \n",
    "                            verbose = 2 )\n",
    "\n",
    "svc_cv_model.fit(X_train, y_train)"
   ]
  },
  {
   "cell_type": "code",
   "execution_count": 83,
   "metadata": {
    "colab": {
     "base_uri": "https://localhost:8080/"
    },
    "executionInfo": {
     "elapsed": 20,
     "status": "ok",
     "timestamp": 1624183598470,
     "user": {
      "displayName": "Yusuf",
      "photoUrl": "https://lh3.googleusercontent.com/a-/AOh14GiQ6hWUivwANbnwlw7xBR1EdEhqK5p0u_G2GJTcpw=s64",
      "userId": "15697169809797874975"
     },
     "user_tz": -180
    },
    "id": "tkGPyPOLkKpy",
    "outputId": "190d720a-d09f-42b6-dc49-ad7eb156f632"
   },
   "outputs": [
    {
     "name": "stdout",
     "output_type": "stream",
     "text": [
      "The Best Parameter: {'C': 5}\n"
     ]
    }
   ],
   "source": [
    "print(\"The Best Parameter: \" + str(svc_cv_model.best_params_))"
   ]
  },
  {
   "cell_type": "code",
   "execution_count": 84,
   "metadata": {
    "executionInfo": {
     "elapsed": 17113,
     "status": "ok",
     "timestamp": 1624183615570,
     "user": {
      "displayName": "Yusuf",
      "photoUrl": "https://lh3.googleusercontent.com/a-/AOh14GiQ6hWUivwANbnwlw7xBR1EdEhqK5p0u_G2GJTcpw=s64",
      "userId": "15697169809797874975"
     },
     "user_tz": -180
    },
    "id": "6Y2MTRJUkKsJ"
   },
   "outputs": [],
   "source": [
    "svc_tuned = SVC(kernel = \"linear\", C = 5).fit(X_train, y_train)"
   ]
  },
  {
   "cell_type": "code",
   "execution_count": 85,
   "metadata": {
    "colab": {
     "base_uri": "https://localhost:8080/"
    },
    "executionInfo": {
     "elapsed": 18,
     "status": "ok",
     "timestamp": 1624183615571,
     "user": {
      "displayName": "Yusuf",
      "photoUrl": "https://lh3.googleusercontent.com/a-/AOh14GiQ6hWUivwANbnwlw7xBR1EdEhqK5p0u_G2GJTcpw=s64",
      "userId": "15697169809797874975"
     },
     "user_tz": -180
    },
    "id": "CMGQ4lv8kZap",
    "outputId": "0b7a9e42-c52f-48c9-ee1a-c164a0552a27"
   },
   "outputs": [
    {
     "data": {
      "text/plain": [
       "0.7445887445887446"
      ]
     },
     "execution_count": 85,
     "metadata": {
      "tags": []
     },
     "output_type": "execute_result"
    }
   ],
   "source": [
    "y_pred = svc_tuned.predict(X_test)\n",
    "accuracy_score(y_test, y_pred)"
   ]
  },
  {
   "cell_type": "markdown",
   "metadata": {
    "id": "aSxAwT0Z1S6X"
   },
   "source": [
    "# non-linear SVC (RBF-SVC)"
   ]
  },
  {
   "cell_type": "code",
   "execution_count": 86,
   "metadata": {
    "executionInfo": {
     "elapsed": 3,
     "status": "ok",
     "timestamp": 1624183618379,
     "user": {
      "displayName": "Yusuf",
      "photoUrl": "https://lh3.googleusercontent.com/a-/AOh14GiQ6hWUivwANbnwlw7xBR1EdEhqK5p0u_G2GJTcpw=s64",
      "userId": "15697169809797874975"
     },
     "user_tz": -180
    },
    "id": "-QYtv8mF1U2N"
   },
   "outputs": [],
   "source": [
    "# model and prediction"
   ]
  },
  {
   "cell_type": "code",
   "execution_count": 87,
   "metadata": {
    "colab": {
     "base_uri": "https://localhost:8080/"
    },
    "executionInfo": {
     "elapsed": 12,
     "status": "ok",
     "timestamp": 1624183618638,
     "user": {
      "displayName": "Yusuf",
      "photoUrl": "https://lh3.googleusercontent.com/a-/AOh14GiQ6hWUivwANbnwlw7xBR1EdEhqK5p0u_G2GJTcpw=s64",
      "userId": "15697169809797874975"
     },
     "user_tz": -180
    },
    "id": "vTBnkx8L1VF1",
    "outputId": "38bcd747-043f-4b53-d1c6-5d93e760db19"
   },
   "outputs": [
    {
     "name": "stdout",
     "output_type": "stream",
     "text": [
      "<class 'pandas.core.frame.DataFrame'>\n",
      "Int64Index: 768 entries, 0 to 767\n",
      "Data columns (total 9 columns):\n",
      " #   Column                    Non-Null Count  Dtype  \n",
      "---  ------                    --------------  -----  \n",
      " 0   Pregnancies               768 non-null    int64  \n",
      " 1   Glucose                   768 non-null    int64  \n",
      " 2   BloodPressure             768 non-null    int64  \n",
      " 3   SkinThickness             768 non-null    int64  \n",
      " 4   Insulin                   768 non-null    int64  \n",
      " 5   BMI                       768 non-null    float64\n",
      " 6   DiabetesPedigreeFunction  768 non-null    float64\n",
      " 7   Age                       768 non-null    int64  \n",
      " 8   Outcome                   768 non-null    int64  \n",
      "dtypes: float64(2), int64(7)\n",
      "memory usage: 60.0 KB\n"
     ]
    }
   ],
   "source": [
    "dia=pd.read_csv(\"diabetes.csv\")\n",
    "df=dia.copy()\n",
    "df=df.dropna()\n",
    "y=df[\"Outcome\"]\n",
    "X=df.drop([\"Outcome\"],axis=1)\n",
    "X_train,X_test,y_train,y_test=train_test_split(X,y,test_size=0.3,\n",
    "                                              random_state=42)\n",
    "df.info()"
   ]
  },
  {
   "cell_type": "code",
   "execution_count": 88,
   "metadata": {
    "executionInfo": {
     "elapsed": 12,
     "status": "ok",
     "timestamp": 1624183618639,
     "user": {
      "displayName": "Yusuf",
      "photoUrl": "https://lh3.googleusercontent.com/a-/AOh14GiQ6hWUivwANbnwlw7xBR1EdEhqK5p0u_G2GJTcpw=s64",
      "userId": "15697169809797874975"
     },
     "user_tz": -180
    },
    "id": "E_lmvUE01VOm"
   },
   "outputs": [],
   "source": [
    "svc_model = SVC(kernel = \"rbf\").fit(X_train, y_train)"
   ]
  },
  {
   "cell_type": "code",
   "execution_count": 89,
   "metadata": {
    "colab": {
     "base_uri": "https://localhost:8080/"
    },
    "executionInfo": {
     "elapsed": 12,
     "status": "ok",
     "timestamp": 1624183618640,
     "user": {
      "displayName": "Yusuf",
      "photoUrl": "https://lh3.googleusercontent.com/a-/AOh14GiQ6hWUivwANbnwlw7xBR1EdEhqK5p0u_G2GJTcpw=s64",
      "userId": "15697169809797874975"
     },
     "user_tz": -180
    },
    "id": "IVptWpxn1VRe",
    "outputId": "ea20b02b-b465-4da4-a327-955c59a691d2"
   },
   "outputs": [
    {
     "data": {
      "text/plain": [
       "0.7359307359307359"
      ]
     },
     "execution_count": 89,
     "metadata": {
      "tags": []
     },
     "output_type": "execute_result"
    }
   ],
   "source": [
    "y_pred = svc_model.predict(X_test)\n",
    "accuracy_score(y_test, y_pred)"
   ]
  },
  {
   "cell_type": "code",
   "execution_count": 90,
   "metadata": {
    "executionInfo": {
     "elapsed": 10,
     "status": "ok",
     "timestamp": 1624183618641,
     "user": {
      "displayName": "Yusuf",
      "photoUrl": "https://lh3.googleusercontent.com/a-/AOh14GiQ6hWUivwANbnwlw7xBR1EdEhqK5p0u_G2GJTcpw=s64",
      "userId": "15697169809797874975"
     },
     "user_tz": -180
    },
    "id": "RMWiSiBE1VUm"
   },
   "outputs": [],
   "source": [
    "# model tuning"
   ]
  },
  {
   "cell_type": "code",
   "execution_count": 91,
   "metadata": {
    "executionInfo": {
     "elapsed": 10,
     "status": "ok",
     "timestamp": 1624183618642,
     "user": {
      "displayName": "Yusuf",
      "photoUrl": "https://lh3.googleusercontent.com/a-/AOh14GiQ6hWUivwANbnwlw7xBR1EdEhqK5p0u_G2GJTcpw=s64",
      "userId": "15697169809797874975"
     },
     "user_tz": -180
    },
    "id": "MlOvHk2x1Z1X"
   },
   "outputs": [],
   "source": [
    "svc_params = {\"C\": [0.0001, 0.001, 0.1, 1, 5, 10 ,50 ,100],\n",
    "             \"gamma\": [0.0001, 0.001, 0.1, 1, 5, 10 ,50 ,100]}"
   ]
  },
  {
   "cell_type": "code",
   "execution_count": 92,
   "metadata": {
    "colab": {
     "base_uri": "https://localhost:8080/"
    },
    "executionInfo": {
     "elapsed": 10,
     "status": "ok",
     "timestamp": 1624183618643,
     "user": {
      "displayName": "Yusuf",
      "photoUrl": "https://lh3.googleusercontent.com/a-/AOh14GiQ6hWUivwANbnwlw7xBR1EdEhqK5p0u_G2GJTcpw=s64",
      "userId": "15697169809797874975"
     },
     "user_tz": -180
    },
    "id": "5_mTjr9O1aEU",
    "outputId": "4d3351a2-8e6b-4b89-b4de-3227d5cfa988"
   },
   "outputs": [
    {
     "data": {
      "text/plain": [
       "0.7445887445887446"
      ]
     },
     "execution_count": 92,
     "metadata": {
      "tags": []
     },
     "output_type": "execute_result"
    }
   ],
   "source": [
    "y_pred = svc_tuned.predict(X_test)\n",
    "accuracy_score(y_test, y_pred)"
   ]
  },
  {
   "cell_type": "code",
   "execution_count": 5,
   "metadata": {
    "colab": {
     "base_uri": "https://localhost:8080/"
    },
    "executionInfo": {
     "elapsed": 40640,
     "status": "ok",
     "timestamp": 1624193936108,
     "user": {
      "displayName": "Yusuf",
      "photoUrl": "https://lh3.googleusercontent.com/a-/AOh14GiQ6hWUivwANbnwlw7xBR1EdEhqK5p0u_G2GJTcpw=s64",
      "userId": "15697169809797874975"
     },
     "user_tz": -180
    },
    "id": "ZqEDg7th1aG4",
    "outputId": "e6dd8a8c-dda1-4b74-c5fd-ef6fe630b9f3"
   },
   "outputs": [
    {
     "name": "stdout",
     "output_type": "stream",
     "text": [
      "On branch main\n",
      "Your branch is up to date with 'origin/main'.\n",
      "\n",
      "Changes not staged for commit:\n",
      "  (use \"git add <file>...\" to update what will be committed)\n",
      "  (use \"git checkout -- <file>...\" to discard changes in working directory)\n",
      "\n",
      "\t\u001b[31mmodified:   mynotes.ipynb\u001b[m\n",
      "\n",
      "Untracked files:\n",
      "  (use \"git add <file>...\" to include in what will be committed)\n",
      "\n",
      "\t\u001b[31m../../Untitled0.ipynb\u001b[m\n",
      "\n",
      "no changes added to commit (use \"git add\" and/or \"git commit -a\")\n"
     ]
    }
   ],
   "source": []
  },
  {
   "cell_type": "code",
   "execution_count": null,
   "metadata": {
    "id": "_VOWfX_tf1Wv"
   },
   "outputs": [],
   "source": []
  }
 ],
 "metadata": {
  "accelerator": "GPU",
  "colab": {
   "name": "mynotes.ipynb",
   "provenance": []
  },
  "kernelspec": {
   "display_name": "Python 3",
   "language": "python",
   "name": "python3"
  },
  "language_info": {
   "codemirror_mode": {
    "name": "ipython",
    "version": 3
   },
   "file_extension": ".py",
   "mimetype": "text/x-python",
   "name": "python",
   "nbconvert_exporter": "python",
   "pygments_lexer": "ipython3",
   "version": "3.8.5"
  }
 },
 "nbformat": 4,
 "nbformat_minor": 4
}
