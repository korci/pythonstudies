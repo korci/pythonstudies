{
 "cells": [
  {
   "cell_type": "markdown",
   "metadata": {},
   "source": [
    "# KNN -K Nearest Neighbor Algorithm"
   ]
  },
  {
   "cell_type": "code",
   "execution_count": 1,
   "metadata": {},
   "outputs": [],
   "source": [
    "# Predictions make by observation similarities"
   ]
  },
  {
   "cell_type": "code",
   "execution_count": 2,
   "metadata": {},
   "outputs": [],
   "source": [
    "# 1- Determine the neighbor quantity\n",
    "# 2- Calculate the distance between unknown point and all points\n",
    "# 3- Order the distances and choose the closest k observation according to k numbers\n",
    "# 4- If it is classification value it by  most often class; if it is regression value it by average value "
   ]
  },
  {
   "cell_type": "code",
   "execution_count": 3,
   "metadata": {},
   "outputs": [],
   "source": [
    "import numpy as np\n",
    "import pandas as pd \n",
    "from sklearn.model_selection import train_test_split, GridSearchCV,cross_val_score\n",
    "from sklearn.metrics import mean_squared_error, r2_score\n",
    "import matplotlib.pyplot as plt\n",
    "from sklearn.preprocessing import scale \n",
    "from sklearn import model_selection\n",
    "from sklearn.tree import DecisionTreeRegressor, DecisionTreeClassifier\n",
    "from sklearn.neighbors import KNeighborsRegressor\n",
    "from sklearn.ensemble import BaggingRegressor\n",
    "\n",
    "from warnings import filterwarnings\n",
    "filterwarnings('ignore')"
   ]
  },
  {
   "cell_type": "code",
   "execution_count": 4,
   "metadata": {},
   "outputs": [],
   "source": [
    "from sklearn.model_selection import train_test_split"
   ]
  },
  {
   "cell_type": "code",
   "execution_count": 5,
   "metadata": {},
   "outputs": [],
   "source": [
    "hit = pd.read_csv(\"Hitters.csv\")\n",
    "df = hit.copy()\n",
    "df = df.dropna()\n",
    "dms = pd.get_dummies(df[['League', 'Division', 'NewLeague']])\n",
    "y = df[\"Salary\"]\n",
    "X_ = df.drop(['Salary', 'League', 'Division', 'NewLeague'], axis=1).astype('float64')\n",
    "X = pd.concat([X_, dms[['League_N', 'Division_W', 'NewLeague_N']]], axis=1)\n",
    "X_train, X_test, y_train, y_test = train_test_split(X, y, \n",
    "                                                    test_size=0.25, \n",
    "                                                    random_state=42)"
   ]
  },
  {
   "cell_type": "code",
   "execution_count": 6,
   "metadata": {},
   "outputs": [],
   "source": [
    "from sklearn.neighbors import KNeighborsRegressor"
   ]
  },
  {
   "cell_type": "code",
   "execution_count": 7,
   "metadata": {},
   "outputs": [],
   "source": [
    "knn_model=KNeighborsRegressor().fit(X_train,y_train)"
   ]
  },
  {
   "cell_type": "code",
   "execution_count": 8,
   "metadata": {},
   "outputs": [
    {
     "data": {
      "text/plain": [
       "5"
      ]
     },
     "execution_count": 8,
     "metadata": {},
     "output_type": "execute_result"
    }
   ],
   "source": [
    "knn_model.n_neighbors"
   ]
  },
  {
   "cell_type": "code",
   "execution_count": 9,
   "metadata": {},
   "outputs": [],
   "source": [
    "# Prediction"
   ]
  },
  {
   "cell_type": "code",
   "execution_count": 10,
   "metadata": {},
   "outputs": [],
   "source": [
    "y_pred=knn_model.predict(X_test)"
   ]
  },
  {
   "cell_type": "code",
   "execution_count": 11,
   "metadata": {},
   "outputs": [],
   "source": [
    "from sklearn.metrics import mean_squared_error"
   ]
  },
  {
   "cell_type": "code",
   "execution_count": 12,
   "metadata": {},
   "outputs": [
    {
     "data": {
      "text/plain": [
       "426.6570764525201"
      ]
     },
     "execution_count": 12,
     "metadata": {},
     "output_type": "execute_result"
    }
   ],
   "source": [
    "np.sqrt(mean_squared_error(y_test,y_pred))"
   ]
  },
  {
   "cell_type": "code",
   "execution_count": 13,
   "metadata": {},
   "outputs": [
    {
     "name": "stdout",
     "output_type": "stream",
     "text": [
      "k=  1 RMSE Value 0.0\n",
      "k=  2 RMSE Value 179.52761335480352\n",
      "k=  3 RMSE Value 205.20157172291863\n",
      "k=  4 RMSE Value 220.5139794876305\n",
      "k=  5 RMSE Value 239.64671325413764\n",
      "k=  6 RMSE Value 243.5904190007242\n",
      "k=  7 RMSE Value 258.1478781634636\n",
      "k=  8 RMSE Value 266.05374203349805\n",
      "k=  9 RMSE Value 269.73782093553376\n",
      "k=  10 RMSE Value 271.2798300436963\n"
     ]
    }
   ],
   "source": [
    "RMSE=[]\n",
    "\n",
    "for k in range(10):\n",
    "    k=k+1\n",
    "    knn_model=KNeighborsRegressor(n_neighbors=k).fit(X_train,y_train)\n",
    "    y_pred=knn_model.predict(X_train)\n",
    "    rmse=np.sqrt(mean_squared_error(y_train,y_pred))\n",
    "    RMSE.append(rmse)\n",
    "    print(\"k= \",k,\"RMSE Value\",rmse)"
   ]
  },
  {
   "cell_type": "code",
   "execution_count": 14,
   "metadata": {},
   "outputs": [],
   "source": [
    "# Model Tuning"
   ]
  },
  {
   "cell_type": "code",
   "execution_count": 15,
   "metadata": {},
   "outputs": [],
   "source": [
    "from sklearn.model_selection import GridSearchCV"
   ]
  },
  {
   "cell_type": "code",
   "execution_count": 16,
   "metadata": {},
   "outputs": [],
   "source": [
    "knn_params= {\"n_neighbors\": np.arange(1,30,1)}"
   ]
  },
  {
   "cell_type": "code",
   "execution_count": 17,
   "metadata": {},
   "outputs": [],
   "source": [
    "knn=KNeighborsRegressor()\n",
    "knn_cv_model=GridSearchCV(knn,knn_params,cv=10)"
   ]
  },
  {
   "cell_type": "code",
   "execution_count": 18,
   "metadata": {},
   "outputs": [
    {
     "data": {
      "text/plain": [
       "GridSearchCV(cv=10, estimator=KNeighborsRegressor(),\n",
       "             param_grid={'n_neighbors': array([ 1,  2,  3,  4,  5,  6,  7,  8,  9, 10, 11, 12, 13, 14, 15, 16, 17,\n",
       "       18, 19, 20, 21, 22, 23, 24, 25, 26, 27, 28, 29])})"
      ]
     },
     "execution_count": 18,
     "metadata": {},
     "output_type": "execute_result"
    }
   ],
   "source": [
    "knn_cv_model.fit(X_train, y_train)"
   ]
  },
  {
   "cell_type": "code",
   "execution_count": 19,
   "metadata": {},
   "outputs": [
    {
     "data": {
      "text/plain": [
       "8"
      ]
     },
     "execution_count": 19,
     "metadata": {},
     "output_type": "execute_result"
    }
   ],
   "source": [
    "knn_cv_model.best_params_[\"n_neighbors\"]"
   ]
  },
  {
   "cell_type": "code",
   "execution_count": 20,
   "metadata": {},
   "outputs": [],
   "source": [
    "knn_tuned=KNeighborsRegressor(n_neighbors=8)"
   ]
  },
  {
   "cell_type": "code",
   "execution_count": 21,
   "metadata": {},
   "outputs": [
    {
     "data": {
      "text/plain": [
       "KNeighborsRegressor(n_neighbors=8)"
      ]
     },
     "execution_count": 21,
     "metadata": {},
     "output_type": "execute_result"
    }
   ],
   "source": [
    "knn_tuned.fit(X_train,y_train)"
   ]
  },
  {
   "cell_type": "code",
   "execution_count": 22,
   "metadata": {},
   "outputs": [],
   "source": [
    "y_pred=knn_tuned.predict(X_test)"
   ]
  },
  {
   "cell_type": "code",
   "execution_count": 23,
   "metadata": {},
   "outputs": [
    {
     "data": {
      "text/plain": [
       "413.7094731463598"
      ]
     },
     "execution_count": 23,
     "metadata": {},
     "output_type": "execute_result"
    }
   ],
   "source": [
    "np.sqrt(mean_squared_error(y_test,y_pred))"
   ]
  },
  {
   "cell_type": "markdown",
   "metadata": {},
   "source": [
    "# Support Vector Regression - SVR"
   ]
  },
  {
   "cell_type": "code",
   "execution_count": 24,
   "metadata": {},
   "outputs": [],
   "source": [
    "# The aim is to determine the line or curve so that the maximum point in the margin range can be taken with the smallest error. "
   ]
  },
  {
   "cell_type": "code",
   "execution_count": 25,
   "metadata": {},
   "outputs": [],
   "source": [
    "import pandas as pd\n",
    "import numpy as np\n",
    "from sklearn.svm import SVR\n",
    "from sklearn.model_selection import train_test_split\n",
    "from matplotlib import pyplot as plt\n",
    "from sklearn.linear_model import LinearRegression"
   ]
  },
  {
   "cell_type": "code",
   "execution_count": 26,
   "metadata": {},
   "outputs": [],
   "source": [
    "hit=pd.read_csv(\"Hitters.csv\")\n",
    "df=hit.copy()\n",
    "df=df.dropna()\n",
    "y=df[\"Salary\"]\n",
    "dms=pd.get_dummies(df[[\"League\",\"Division\",\"NewLeague\"]])\n",
    "X_=df.drop([\"Salary\",\"League\",\"Division\",\"NewLeague\"],axis=1).astype(\"float64\")\n",
    "X=pd.concat([X_,dms[['League_N', 'Division_W', 'NewLeague_N']]],axis=1)\n",
    "X_train,X_test,y_train,y_test=train_test_split(X,y,test_size=0.25,random_state=42)"
   ]
  },
  {
   "cell_type": "code",
   "execution_count": 27,
   "metadata": {},
   "outputs": [],
   "source": [
    "X_train=pd.DataFrame(X_train[\"Hits\"])\n",
    "X_test=pd.DataFrame(X_test[\"Hits\"])"
   ]
  },
  {
   "cell_type": "code",
   "execution_count": 28,
   "metadata": {},
   "outputs": [
    {
     "name": "stdout",
     "output_type": "stream",
     "text": [
      "y=-48.69756097561513+4.969512195122093x\n"
     ]
    },
    {
     "data": {
      "text/plain": [
       "403.5280487804888"
      ]
     },
     "execution_count": 28,
     "metadata": {},
     "output_type": "execute_result"
    }
   ],
   "source": [
    "svr_model=SVR(\"linear\").fit(X_train,y_train)\n",
    "y_pred=svr_model.predict(X_train)\n",
    "formula=print(\"y={0}+{1}x\".format(svr_model.intercept_[0],\n",
    "                              svr_model.coef_[0][0]))\n",
    "y_pred[0]"
   ]
  },
  {
   "cell_type": "code",
   "execution_count": 29,
   "metadata": {},
   "outputs": [
    {
     "data": {
      "image/png": "[encoded data removed]",
      "text/plain": [
       "<Figure size 432x288 with 1 Axes>"
      ]
     },
     "metadata": {
      "needs_background": "light"
     },
     "output_type": "display_data"
    }
   ],
   "source": [
    "plt.scatter(X_train,y_train)\n",
    "plt.plot(X_train,y_pred,color=\"r\");"
   ]
  },
  {
   "cell_type": "code",
   "execution_count": 30,
   "metadata": {},
   "outputs": [
    {
     "name": "stdout",
     "output_type": "stream",
     "text": [
      "-8.814095480334572 + 5.1724561354706875x\n"
     ]
    },
    {
     "data": {
      "text/plain": [
       "403.5280487804888"
      ]
     },
     "execution_count": 30,
     "metadata": {},
     "output_type": "execute_result"
    }
   ],
   "source": [
    "lm=LinearRegression().fit(X_train,y_train)\n",
    "lm_pred=lm.predict(X_train)\n",
    "formula=print(\"{0} + {1}x\".format(lm.intercept_,\n",
    "                                 lm.coef_[0]))\n",
    "y_pred[0]                                       # we wanted to see difference between lm and svr,formulas have changed"
   ]
  },
  {
   "cell_type": "code",
   "execution_count": 31,
   "metadata": {},
   "outputs": [
    {
     "data": {
      "text/plain": [
       "<matplotlib.collections.PathCollection at 0x1dd464bef10>"
      ]
     },
     "execution_count": 31,
     "metadata": {},
     "output_type": "execute_result"
    },
    {
     "data": {
      "image/png": "[encoded data removed]",
      "text/plain": [
       "<Figure size 432x288 with 1 Axes>"
      ]
     },
     "metadata": {
      "needs_background": "light"
     },
     "output_type": "display_data"
    }
   ],
   "source": [
    "plt.scatter(X_train,y_train)"
   ]
  },
  {
   "cell_type": "code",
   "execution_count": 32,
   "metadata": {},
   "outputs": [
    {
     "data": {
      "text/plain": [
       "<matplotlib.collections.PathCollection at 0x1dd4651b700>"
      ]
     },
     "execution_count": 32,
     "metadata": {},
     "output_type": "execute_result"
    },
    {
     "data": {
      "image/png": "[encoded data removed]",
      "text/plain": [
       "<Figure size 432x288 with 1 Axes>"
      ]
     },
     "metadata": {
      "needs_background": "light"
     },
     "output_type": "display_data"
    }
   ],
   "source": [
    "plt.scatter(X_train,y_train,alpha=0.5) # color intensity has changed"
   ]
  },
  {
   "cell_type": "code",
   "execution_count": 33,
   "metadata": {},
   "outputs": [
    {
     "data": {
      "text/plain": [
       "[<matplotlib.lines.Line2D at 0x1dd465787c0>]"
      ]
     },
     "execution_count": 33,
     "metadata": {},
     "output_type": "execute_result"
    },
    {
     "data": {
      "image/png": "[encoded data removed]",
      "text/plain": [
       "<Figure size 432x288 with 1 Axes>"
      ]
     },
     "metadata": {
      "needs_background": "light"
     },
     "output_type": "display_data"
    }
   ],
   "source": [
    "plt.scatter(X_train,y_train,alpha=0.5,s=23) # circle radius has decreased\n",
    "plt.plot(X_train,y_pred,color=\"r\")\n",
    "plt.plot(X_train,lm_pred,\"g\") # green slope is at the top bcz svr is robust"
   ]
  },
  {
   "cell_type": "code",
   "execution_count": 34,
   "metadata": {},
   "outputs": [],
   "source": [
    "# prediction"
   ]
  },
  {
   "cell_type": "code",
   "execution_count": 35,
   "metadata": {},
   "outputs": [
    {
     "data": {
      "text/plain": [
       "459.0187960365147"
      ]
     },
     "execution_count": 35,
     "metadata": {},
     "output_type": "execute_result"
    }
   ],
   "source": [
    "y_pred=svr_model.predict(X_test)\n",
    "np.sqrt(mean_squared_error(y_test,y_pred))"
   ]
  },
  {
   "cell_type": "code",
   "execution_count": 36,
   "metadata": {},
   "outputs": [],
   "source": [
    "# model tuning"
   ]
  },
  {
   "cell_type": "code",
   "execution_count": 37,
   "metadata": {},
   "outputs": [],
   "source": [
    "svr_params = {\"C\": np.arange(0.1,0.5,0.1)} # try to keep it less scale to have less time\n",
    "svr_cv_model = GridSearchCV(svr_model, svr_params, cv = 10).fit(X_train,y_train)"
   ]
  },
  {
   "cell_type": "code",
   "execution_count": 38,
   "metadata": {},
   "outputs": [
    {
     "data": {
      "text/plain": [
       "0.1"
      ]
     },
     "execution_count": 38,
     "metadata": {},
     "output_type": "execute_result"
    }
   ],
   "source": [
    "pd.Series(svr_cv_model.best_params_)[0]"
   ]
  },
  {
   "cell_type": "code",
   "execution_count": 39,
   "metadata": {},
   "outputs": [],
   "source": [
    "svr_tuned = SVR(\"linear\", \n",
    "                C = pd.Series(svr_cv_model.best_params_)[0]).fit(X_train, y_train)\n",
    "\n"
   ]
  },
  {
   "cell_type": "code",
   "execution_count": 40,
   "metadata": {},
   "outputs": [],
   "source": [
    "y_pred = svr_tuned.predict(X_test)"
   ]
  },
  {
   "cell_type": "code",
   "execution_count": 41,
   "metadata": {},
   "outputs": [
    {
     "data": {
      "text/plain": [
       "458.198966781116"
      ]
     },
     "execution_count": 41,
     "metadata": {},
     "output_type": "execute_result"
    }
   ],
   "source": [
    "np.sqrt(mean_squared_error(y_test, y_pred)) # before reassigned the dataset"
   ]
  },
  {
   "cell_type": "code",
   "execution_count": 42,
   "metadata": {},
   "outputs": [
    {
     "data": {
      "text/plain": [
       "458.198966781116"
      ]
     },
     "execution_count": 42,
     "metadata": {},
     "output_type": "execute_result"
    }
   ],
   "source": [
    "np.sqrt(mean_squared_error(y_test, y_pred)) # after reassigned the dataset"
   ]
  },
  {
   "cell_type": "markdown",
   "metadata": {},
   "source": [
    "# Non-Linear SVR"
   ]
  },
  {
   "cell_type": "code",
   "execution_count": 43,
   "metadata": {},
   "outputs": [],
   "source": [
    "# just for the digest how things are different then the others"
   ]
  },
  {
   "cell_type": "code",
   "execution_count": 44,
   "metadata": {},
   "outputs": [],
   "source": [
    "np.random.seed(3)\n",
    "\n",
    "x_sim = np.random.uniform(2, 10, 145)\n",
    "y_sim = np.sin(x_sim) + np.random.normal(0, 0.4, 145)\n",
    "\n",
    "x_outliers = np.arange(2.5, 5, 0.5)\n",
    "y_outliers = -5*np.ones(5)\n",
    "\n",
    "x_sim_idx = np.argsort(np.concatenate([x_sim, x_outliers]))\n",
    "x_sim = np.concatenate([x_sim, x_outliers])[x_sim_idx]\n",
    "y_sim = np.concatenate([y_sim, y_outliers])[x_sim_idx]"
   ]
  },
  {
   "cell_type": "code",
   "execution_count": 45,
   "metadata": {},
   "outputs": [],
   "source": [
    "\n",
    "from sklearn.linear_model import LinearRegression\n",
    "ols = LinearRegression()\n",
    "ols.fit(np.sin(x_sim[:, np.newaxis]), y_sim)\n",
    "ols_pred = ols.predict(np.sin(x_sim[:, np.newaxis]))\n",
    "\n",
    "from sklearn.svm import SVR\n",
    "eps = 0.1\n",
    "svr = SVR('rbf', epsilon = eps)\n",
    "svr.fit(x_sim[:, np.newaxis], y_sim)\n",
    "svr_pred = svr.predict(x_sim[:, np.newaxis])"
   ]
  },
  {
   "cell_type": "code",
   "execution_count": 46,
   "metadata": {},
   "outputs": [
    {
     "data": {
      "image/png": "[encoded data removed]",
      "text/plain": [
       "<Figure size 432x288 with 1 Axes>"
      ]
     },
     "metadata": {
      "needs_background": "light"
     },
     "output_type": "display_data"
    }
   ],
   "source": [
    "plt.scatter(x_sim, y_sim, alpha=0.5, s=26)\n",
    "plt_ols, = plt.plot(x_sim, ols_pred, 'g')\n",
    "plt_svr, = plt.plot(x_sim, svr_pred, color='r')\n",
    "plt.xlabel(\"Indepent Variable\")\n",
    "plt.ylabel(\"Depentdent Variable\")\n",
    "plt.ylim(-5.2, 2.2)\n",
    "plt.legend([plt_ols, plt_svr], ['SSE', 'SVR'], loc = 4);"
   ]
  },
  {
   "cell_type": "code",
   "execution_count": 47,
   "metadata": {},
   "outputs": [],
   "source": [
    "hit=pd.read_csv(\"Hitters.csv\")\n",
    "df=hit.copy()\n",
    "df=df.dropna()\n",
    "y=df[\"Salary\"]\n",
    "dms=pd.get_dummies(df[[\"League\",\"Division\",\"NewLeague\"]])\n",
    "X_=df.drop([\"Salary\",\"League\",\"Division\",\"NewLeague\"],axis=1).astype(\"float64\")\n",
    "X=pd.concat([X_,dms[['League_N', 'Division_W', 'NewLeague_N']]],axis=1)\n",
    "X_train,X_test,y_train,y_test=train_test_split(X,y,test_size=0.25,random_state=42)"
   ]
  },
  {
   "cell_type": "code",
   "execution_count": 48,
   "metadata": {},
   "outputs": [
    {
     "data": {
      "text/plain": [
       "(197, 19)"
      ]
     },
     "execution_count": 48,
     "metadata": {},
     "output_type": "execute_result"
    }
   ],
   "source": [
    "X_train.shape"
   ]
  },
  {
   "cell_type": "code",
   "execution_count": 49,
   "metadata": {},
   "outputs": [
    {
     "data": {
      "text/plain": [
       "(197,)"
      ]
     },
     "execution_count": 49,
     "metadata": {},
     "output_type": "execute_result"
    }
   ],
   "source": [
    "y_train.shape"
   ]
  },
  {
   "cell_type": "code",
   "execution_count": 50,
   "metadata": {},
   "outputs": [
    {
     "data": {
      "text/plain": [
       "(66,)"
      ]
     },
     "execution_count": 50,
     "metadata": {},
     "output_type": "execute_result"
    }
   ],
   "source": [
    "y_test.shape"
   ]
  },
  {
   "cell_type": "code",
   "execution_count": 51,
   "metadata": {},
   "outputs": [],
   "source": [
    "svr_rbf = SVR(\"rbf\").fit(X_train, y_train) # radial basis function-->rbf"
   ]
  },
  {
   "cell_type": "code",
   "execution_count": 52,
   "metadata": {},
   "outputs": [],
   "source": [
    "# prediction"
   ]
  },
  {
   "cell_type": "code",
   "execution_count": 53,
   "metadata": {},
   "outputs": [],
   "source": [
    "y_pred = svr_rbf.predict(X_test)"
   ]
  },
  {
   "cell_type": "code",
   "execution_count": 54,
   "metadata": {},
   "outputs": [
    {
     "data": {
      "text/plain": [
       "460.0032657244849"
      ]
     },
     "execution_count": 54,
     "metadata": {},
     "output_type": "execute_result"
    }
   ],
   "source": [
    "np.sqrt(mean_squared_error(y_test, y_pred))"
   ]
  },
  {
   "cell_type": "code",
   "execution_count": 55,
   "metadata": {},
   "outputs": [],
   "source": [
    "# model tuning"
   ]
  },
  {
   "cell_type": "code",
   "execution_count": 56,
   "metadata": {},
   "outputs": [
    {
     "data": {
      "text/plain": [
       "SVR()"
      ]
     },
     "execution_count": 56,
     "metadata": {},
     "output_type": "execute_result"
    }
   ],
   "source": [
    "svr_rbf"
   ]
  },
  {
   "cell_type": "code",
   "execution_count": 57,
   "metadata": {},
   "outputs": [
    {
     "data": {
      "text/plain": [
       "GridSearchCV(cv=10, estimator=SVR(),\n",
       "             param_grid={'C': [0.01, 0.1, 0.4, 5, 10, 20, 30, 40, 50]})"
      ]
     },
     "execution_count": 57,
     "metadata": {},
     "output_type": "execute_result"
    }
   ],
   "source": [
    "svr_params = {\"C\": [0.01, 0.1,0.4,5,10,20,30,40,50]}\n",
    "svr_cv_model = GridSearchCV(svr_rbf,svr_params, cv = 10)\n",
    "svr_cv_model.fit(X_train, y_train)"
   ]
  },
  {
   "cell_type": "code",
   "execution_count": 58,
   "metadata": {},
   "outputs": [
    {
     "data": {
      "text/plain": [
       "50"
      ]
     },
     "execution_count": 58,
     "metadata": {},
     "output_type": "execute_result"
    }
   ],
   "source": [
    "pd.Series(svr_cv_model.best_params_)[0]"
   ]
  },
  {
   "cell_type": "code",
   "execution_count": 59,
   "metadata": {},
   "outputs": [],
   "source": [
    "svr_tuned = SVR(\"rbf\", C = pd.Series(svr_cv_model.best_params_)[0]).fit(X_train, \n",
    "                                                                        y_train)"
   ]
  },
  {
   "cell_type": "code",
   "execution_count": 60,
   "metadata": {},
   "outputs": [
    {
     "data": {
      "text/plain": [
       "428.00406888095694"
      ]
     },
     "execution_count": 60,
     "metadata": {},
     "output_type": "execute_result"
    }
   ],
   "source": [
    "y_pred = svr_tuned.predict(X_test)\n",
    "\n",
    "np.sqrt(mean_squared_error(y_test, y_pred))"
   ]
  },
  {
   "cell_type": "markdown",
   "metadata": {},
   "source": [
    "# Neural Networks"
   ]
  },
  {
   "cell_type": "code",
   "execution_count": 96,
   "metadata": {},
   "outputs": [],
   "source": [
    "import numpy as np\n",
    "import pandas as pd \n",
    "from sklearn.model_selection import train_test_split, GridSearchCV,cross_val_score\n",
    "from sklearn.metrics import mean_squared_error, r2_score\n",
    "import matplotlib.pyplot as plt\n",
    "from sklearn.preprocessing import scale \n",
    "from sklearn import model_selection\n",
    "from sklearn.tree import DecisionTreeRegressor, DecisionTreeClassifier\n",
    "from sklearn.neighbors import KNeighborsRegressor\n",
    "from sklearn.ensemble import BaggingRegressor\n",
    "\n",
    "from warnings import filterwarnings\n",
    "filterwarnings('ignore')"
   ]
  },
  {
   "cell_type": "code",
   "execution_count": 97,
   "metadata": {},
   "outputs": [
    {
     "data": {
      "text/plain": [
       "((197, 19), (197,))"
      ]
     },
     "execution_count": 97,
     "metadata": {},
     "output_type": "execute_result"
    }
   ],
   "source": [
    "hit=pd.read_csv(\"Hitters.csv\")\n",
    "df=hit.copy()\n",
    "df=df.dropna()\n",
    "y=df[\"Salary\"]\n",
    "dms=pd.get_dummies(df[[\"League\",\"Division\",\"NewLeague\"]])\n",
    "X_=df.drop([\"Salary\",\"League\",\"Division\",\"NewLeague\"],axis=1).astype(\"float64\")\n",
    "X=pd.concat([X_,dms[[\"League_N\",\"Division_W\",\"NewLeague_N\"]]],axis=1)\n",
    "X_train,X_test,y_train,y_test=train_test_split(X,y,test_size=0.25,random_state=42)\n",
    "X_train.shape,y_train.shape"
   ]
  },
  {
   "cell_type": "code",
   "execution_count": 111,
   "metadata": {},
   "outputs": [],
   "source": [
    "from sklearn.preprocessing import StandardScaler"
   ]
  },
  {
   "cell_type": "code",
   "execution_count": 112,
   "metadata": {},
   "outputs": [],
   "source": [
    "# standardization\n",
    "scaler=StandardScaler()\n",
    "scaler.fit(X_train)              \n",
    "X_train_scaled=scaler.transform(X_train)\n",
    "X_test_scaled=scaler.transform(X_test) # it has already learned from the .fit(X_train) so we didnt .fit(X_test)"
   ]
  },
  {
   "cell_type": "code",
   "execution_count": 113,
   "metadata": {},
   "outputs": [],
   "source": [
    "from sklearn.neural_network import MLPRegressor"
   ]
  },
  {
   "cell_type": "code",
   "execution_count": 114,
   "metadata": {},
   "outputs": [],
   "source": [
    "mlp_model=MLPRegressor().fit(X_train_scaled,y_train)"
   ]
  },
  {
   "cell_type": "code",
   "execution_count": 115,
   "metadata": {},
   "outputs": [
    {
     "data": {
      "text/plain": [
       "MLPRegressor()"
      ]
     },
     "execution_count": 115,
     "metadata": {},
     "output_type": "execute_result"
    }
   ],
   "source": [
    "mlp_model"
   ]
  },
  {
   "cell_type": "code",
   "execution_count": 116,
   "metadata": {},
   "outputs": [
    {
     "data": {
      "text/plain": [
       "3"
      ]
     },
     "execution_count": 116,
     "metadata": {},
     "output_type": "execute_result"
    }
   ],
   "source": [
    "mlp_model.n_layers_ #input layer,hidden layer,output layer"
   ]
  },
  {
   "cell_type": "code",
   "execution_count": 117,
   "metadata": {},
   "outputs": [
    {
     "data": {
      "text/plain": [
       "(100,)"
      ]
     },
     "execution_count": 117,
     "metadata": {},
     "output_type": "execute_result"
    }
   ],
   "source": [
    "mlp_model.hidden_layer_sizes"
   ]
  },
  {
   "cell_type": "code",
   "execution_count": 118,
   "metadata": {},
   "outputs": [],
   "source": [
    "mlp_model=MLPRegressor(hidden_layer_sizes=(100,20)).fit(X_train_scaled,y_train) # we add one more hidden layer so n_layers became 4"
   ]
  },
  {
   "cell_type": "code",
   "execution_count": 119,
   "metadata": {},
   "outputs": [
    {
     "data": {
      "text/plain": [
       "4"
      ]
     },
     "execution_count": 119,
     "metadata": {},
     "output_type": "execute_result"
    }
   ],
   "source": [
    "mlp_model.n_layers_ #input layer,hidden layer,output layer"
   ]
  },
  {
   "cell_type": "code",
   "execution_count": 120,
   "metadata": {},
   "outputs": [
    {
     "data": {
      "text/plain": [
       "(100, 20)"
      ]
     },
     "execution_count": 120,
     "metadata": {},
     "output_type": "execute_result"
    }
   ],
   "source": [
    "mlp_model.hidden_layer_sizes"
   ]
  },
  {
   "cell_type": "code",
   "execution_count": 121,
   "metadata": {},
   "outputs": [],
   "source": [
    "# prediction"
   ]
  },
  {
   "cell_type": "code",
   "execution_count": 122,
   "metadata": {},
   "outputs": [],
   "source": [
    "y_pred=mlp_model.predict(X_test_scaled)"
   ]
  },
  {
   "cell_type": "code",
   "execution_count": 123,
   "metadata": {},
   "outputs": [
    {
     "data": {
      "text/plain": [
       "453.7715712282649"
      ]
     },
     "execution_count": 123,
     "metadata": {},
     "output_type": "execute_result"
    }
   ],
   "source": [
    "np.sqrt(mean_squared_error(y_test, y_pred))"
   ]
  },
  {
   "cell_type": "code",
   "execution_count": 124,
   "metadata": {},
   "outputs": [],
   "source": [
    "# Model Tuning"
   ]
  },
  {
   "cell_type": "code",
   "execution_count": 127,
   "metadata": {},
   "outputs": [],
   "source": [
    "mlp_params={'alpha': [0.1, 0.01,0.02,0.005],\n",
    "             'hidden_layer_sizes': [(20,20),(100,50,150),(300,200,150)],\n",
    "             'activation': ['relu','logistic']}"
   ]
  },
  {
   "cell_type": "code",
   "execution_count": 141,
   "metadata": {},
   "outputs": [],
   "source": [
    "mlp_cv_model = GridSearchCV(mlp_model, mlp_params, cv = 10)"
   ]
  },
  {
   "cell_type": "code",
   "execution_count": 142,
   "metadata": {},
   "outputs": [
    {
     "data": {
      "text/plain": [
       "GridSearchCV(cv=10, estimator=MLPRegressor(hidden_layer_sizes=(100, 20)),\n",
       "             param_grid={'activation': ['relu', 'logistic'],\n",
       "                         'alpha': [0.1, 0.01, 0.02, 0.005],\n",
       "                         'hidden_layer_sizes': [(20, 20), (100, 50, 150),\n",
       "                                                (300, 200, 150)]})"
      ]
     },
     "execution_count": 142,
     "metadata": {},
     "output_type": "execute_result"
    }
   ],
   "source": [
    "mlp_cv_model.fit(X_train_scaled, y_train)"
   ]
  },
  {
   "cell_type": "code",
   "execution_count": 155,
   "metadata": {},
   "outputs": [
    {
     "data": {
      "text/plain": [
       "'relu'"
      ]
     },
     "execution_count": 155,
     "metadata": {},
     "output_type": "execute_result"
    }
   ],
   "source": [
    " mlp_model.activation"
   ]
  },
  {
   "cell_type": "code",
   "execution_count": 143,
   "metadata": {},
   "outputs": [
    {
     "data": {
      "text/plain": [
       "{'activation': 'relu', 'alpha': 0.1, 'hidden_layer_sizes': (100, 50, 150)}"
      ]
     },
     "execution_count": 143,
     "metadata": {},
     "output_type": "execute_result"
    }
   ],
   "source": [
    "mlp_cv_model.best_params_"
   ]
  },
  {
   "cell_type": "code",
   "execution_count": 152,
   "metadata": {},
   "outputs": [],
   "source": [
    "mlp_tuned = MLPRegressor(alpha = 0.1, hidden_layer_sizes = (100,50,150))"
   ]
  },
  {
   "cell_type": "code",
   "execution_count": 153,
   "metadata": {},
   "outputs": [
    {
     "data": {
      "text/plain": [
       "MLPRegressor(alpha=0.1, hidden_layer_sizes=(100, 50, 150))"
      ]
     },
     "execution_count": 153,
     "metadata": {},
     "output_type": "execute_result"
    }
   ],
   "source": [
    "mlp_tuned.fit(X_train_scaled,y_train)"
   ]
  },
  {
   "cell_type": "code",
   "execution_count": 154,
   "metadata": {},
   "outputs": [
    {
     "data": {
      "text/plain": [
       "358.6721264499399"
      ]
     },
     "execution_count": 154,
     "metadata": {},
     "output_type": "execute_result"
    }
   ],
   "source": [
    "y_pred=mlp_tuned.predict(X_test_scaled)\n",
    "np.sqrt(mean_squared_error(y_test,y_pred))"
   ]
  },
  {
   "cell_type": "code",
   "execution_count": 1,
   "metadata": {},
   "outputs": [],
   "source": [
    "# CART - Classification and Regression Tree"
   ]
  },
  {
   "cell_type": "code",
   "execution_count": 2,
   "metadata": {},
   "outputs": [],
   "source": [
    "import numpy as np\n",
    "import pandas as pd \n",
    "from sklearn.model_selection import train_test_split, GridSearchCV,cross_val_score\n",
    "from sklearn.metrics import mean_squared_error, r2_score\n",
    "import matplotlib.pyplot as plt\n",
    "from sklearn.preprocessing import scale \n",
    "from sklearn import model_selection\n",
    "from sklearn.tree import DecisionTreeRegressor, DecisionTreeClassifier\n",
    "from sklearn.neighbors import KNeighborsRegressor\n",
    "from sklearn.ensemble import BaggingRegressor\n",
    "\n",
    "from warnings import filterwarnings\n",
    "filterwarnings('ignore')"
   ]
  },
  {
   "cell_type": "code",
   "execution_count": 11,
   "metadata": {},
   "outputs": [],
   "source": [
    "hit=pd.read_csv(\"Hitters.csv\")\n",
    "df=hit.copy()\n",
    "df=df.dropna()\n",
    "y=df[\"Salary\"]\n",
    "dms=pd.get_dummies(df[[\"League\",\"Division\",\"NewLeague\"]])\n",
    "X_=df.drop([\"Salary\",\"League\",\"Division\",\"NewLeague\"],axis=1).astype(\"float64\")\n",
    "X=pd.concat([X_,dms[[\"League_N\",\"Division_W\",\"NewLeague_N\"]]],axis=1)\n",
    "X_train,X_test,y_train,y_test=train_test_split(X,y,test_size=0.25,random_state=42)\n",
    "X_train=pd.DataFrame(X_train[\"Hits\"])\n",
    "X_test=pd.DataFrame(X_test[\"Hits\"])"
   ]
  },
  {
   "cell_type": "code",
   "execution_count": 13,
   "metadata": {},
   "outputs": [],
   "source": [
    "cart_model=DecisionTreeRegressor()"
   ]
  },
  {
   "cell_type": "code",
   "execution_count": 14,
   "metadata": {},
   "outputs": [
    {
     "data": {
      "text/plain": [
       "DecisionTreeRegressor()"
      ]
     },
     "execution_count": 14,
     "metadata": {},
     "output_type": "execute_result"
    }
   ],
   "source": [
    "cart_model.fit(X_train,y_train)"
   ]
  },
  {
   "cell_type": "code",
   "execution_count": 15,
   "metadata": {},
   "outputs": [
    {
     "data": {
      "image/png": "[encoded data removed]",
      "text/plain": [
       "<Figure size 432x288 with 1 Axes>"
      ]
     },
     "metadata": {
      "needs_background": "light"
     },
     "output_type": "display_data"
    }
   ],
   "source": [
    "X_grid = np.arange(min(np.array(X_train)),max(np.array(X_train)), 0.01) \n",
    "X_grid = X_grid.reshape((len(X_grid), 1))  \n",
    "plt.scatter(X_train, y_train, color = 'red') \n",
    "plt.plot(X_grid, cart_model.predict(X_grid), color = 'blue')  \n",
    "plt.title('CART REGRESSION TREE')  \n",
    "plt.xlabel('Hits') \n",
    "plt.ylabel('Salary') ;"
   ]
  },
  {
   "cell_type": "code",
   "execution_count": 18,
   "metadata": {},
   "outputs": [],
   "source": [
    "cart_model=DecisionTreeRegressor(max_leaf_nodes=3)"
   ]
  },
  {
   "cell_type": "code",
   "execution_count": 19,
   "metadata": {},
   "outputs": [
    {
     "data": {
      "text/plain": [
       "DecisionTreeRegressor(max_leaf_nodes=3)"
      ]
     },
     "execution_count": 19,
     "metadata": {},
     "output_type": "execute_result"
    }
   ],
   "source": [
    "cart_model.fit(X_train,y_train)"
   ]
  },
  {
   "cell_type": "code",
   "execution_count": 20,
   "metadata": {},
   "outputs": [
    {
     "data": {
      "image/png": "[encoded data removed]",
      "text/plain": [
       "<Figure size 432x288 with 1 Axes>"
      ]
     },
     "metadata": {
      "needs_background": "light"
     },
     "output_type": "display_data"
    }
   ],
   "source": [
    "X_grid = np.arange(min(np.array(X_train)),max(np.array(X_train)), 0.01) \n",
    "X_grid = X_grid.reshape((len(X_grid), 1))  \n",
    "plt.scatter(X_train, y_train, color = 'red') \n",
    "plt.plot(X_grid, cart_model.predict(X_grid), color = 'blue')  \n",
    "plt.title('CART REGRESSION TREE')  \n",
    "plt.xlabel('Hits') \n",
    "plt.ylabel('Salary') ;"
   ]
  },
  {
   "cell_type": "code",
   "execution_count": 29,
   "metadata": {},
   "outputs": [
    {
     "name": "stdout",
     "output_type": "stream",
     "text": [
      "Requirement already satisfied: astor in c:\\users\\bbzyu\\anaconda3\\lib\\site-packages (0.8.1)\n"
     ]
    }
   ],
   "source": [
    "!pip install astor"
   ]
  },
  {
   "cell_type": "code",
   "execution_count": 30,
   "metadata": {},
   "outputs": [
    {
     "name": "stdout",
     "output_type": "stream",
     "text": [
      "Requirement already satisfied: skompiler in c:\\users\\bbzyu\\anaconda3\\lib\\site-packages (0.6)\n",
      "Requirement already satisfied: scikit-learn>=0.22 in c:\\users\\bbzyu\\anaconda3\\lib\\site-packages (from skompiler) (0.23.2)\n",
      "Requirement already satisfied: threadpoolctl>=2.0.0 in c:\\users\\bbzyu\\anaconda3\\lib\\site-packages (from scikit-learn>=0.22->skompiler) (2.1.0)\n",
      "Requirement already satisfied: scipy>=0.19.1 in c:\\users\\bbzyu\\anaconda3\\lib\\site-packages (from scikit-learn>=0.22->skompiler) (1.5.2)\n",
      "Requirement already satisfied: numpy>=1.13.3 in c:\\users\\bbzyu\\anaconda3\\lib\\site-packages (from scikit-learn>=0.22->skompiler) (1.19.2)\n",
      "Requirement already satisfied: joblib>=0.11 in c:\\users\\bbzyu\\anaconda3\\lib\\site-packages (from scikit-learn>=0.22->skompiler) (0.17.0)\n"
     ]
    }
   ],
   "source": [
    "!pip install skompiler"
   ]
  },
  {
   "cell_type": "code",
   "execution_count": 31,
   "metadata": {},
   "outputs": [],
   "source": [
    "from skompiler import skompile"
   ]
  },
  {
   "cell_type": "code",
   "execution_count": 33,
   "metadata": {},
   "outputs": [
    {
     "name": "stdout",
     "output_type": "stream",
     "text": [
      "(345.2011551724138 if x[0] <= 117.5 else 813.0988 if x[0] <= 225.5 else 1975.0)\n",
      "\n"
     ]
    }
   ],
   "source": [
    "print(skompile(cart_model.predict).to('python/code'))"
   ]
  },
  {
   "cell_type": "code",
   "execution_count": 34,
   "metadata": {},
   "outputs": [],
   "source": [
    "# prediction"
   ]
  },
  {
   "cell_type": "code",
   "execution_count": 37,
   "metadata": {},
   "outputs": [],
   "source": [
    "y_pred=cart_model.predict(X_test)"
   ]
  },
  {
   "cell_type": "code",
   "execution_count": 38,
   "metadata": {},
   "outputs": [
    {
     "data": {
      "text/plain": [
       "460.0663148428844"
      ]
     },
     "execution_count": 38,
     "metadata": {},
     "output_type": "execute_result"
    }
   ],
   "source": [
    "np.sqrt(mean_squared_error(y_test,y_pred))"
   ]
  },
  {
   "cell_type": "code",
   "execution_count": 39,
   "metadata": {},
   "outputs": [],
   "source": [
    "# Model Tuning"
   ]
  },
  {
   "cell_type": "code",
   "execution_count": 46,
   "metadata": {},
   "outputs": [],
   "source": [
    "cart_model = DecisionTreeRegressor(max_leaf_nodes=10,min_samples_split=10)\n",
    "cart_model.fit(X_train, y_train)\n",
    "y_pred = cart_model.predict(X_test)"
   ]
  },
  {
   "cell_type": "code",
   "execution_count": 47,
   "metadata": {},
   "outputs": [
    {
     "data": {
      "text/plain": [
       "450.82936090249154"
      ]
     },
     "execution_count": 47,
     "metadata": {},
     "output_type": "execute_result"
    }
   ],
   "source": [
    "np.sqrt(mean_squared_error(y_test,y_pred))"
   ]
  },
  {
   "cell_type": "code",
   "execution_count": 62,
   "metadata": {},
   "outputs": [],
   "source": [
    "cart_params={\"min_samples_split\": range(2,2),\n",
    "             \"max_leaf_nodes\": range (2,20)}\n",
    "cart_cv_model=GridSearchCV(cart_model,cart_params,cv=10)"
   ]
  },
  {
   "cell_type": "code",
   "execution_count": 65,
   "metadata": {},
   "outputs": [
    {
     "data": {
      "text/plain": [
       "GridSearchCV(cv=10,\n",
       "             estimator=DecisionTreeRegressor(max_leaf_nodes=10,\n",
       "                                             min_samples_split=10),\n",
       "             param_grid={'max_leaf_nodes': range(2, 20),\n",
       "                         'min_samples_split': range(2, 20)})"
      ]
     },
     "execution_count": 65,
     "metadata": {},
     "output_type": "execute_result"
    }
   ],
   "source": [
    "cart_cv_model.fit(X_train,y_train)"
   ]
  },
  {
   "cell_type": "code",
   "execution_count": 66,
   "metadata": {},
   "outputs": [
    {
     "data": {
      "text/plain": [
       "{'max_leaf_nodes': 2, 'min_samples_split': 2}"
      ]
     },
     "execution_count": 66,
     "metadata": {},
     "output_type": "execute_result"
    }
   ],
   "source": [
    "cart_cv_model.best_params_ # but we predict from the dataset that 2 is not available for our dataset."
   ]
  },
  {
   "cell_type": "code",
   "execution_count": 100,
   "metadata": {},
   "outputs": [],
   "source": [
    "cart_params = {\"min_samples_split\": range(2,100),\n",
    "               \"max_leaf_nodes\": range(2,10)}"
   ]
  },
  {
   "cell_type": "code",
   "execution_count": 101,
   "metadata": {},
   "outputs": [],
   "source": [
    "cart_cv_model = GridSearchCV(cart_model, cart_params, cv = 10)"
   ]
  },
  {
   "cell_type": "code",
   "execution_count": 102,
   "metadata": {},
   "outputs": [
    {
     "data": {
      "text/plain": [
       "GridSearchCV(cv=10,\n",
       "             estimator=DecisionTreeRegressor(max_leaf_nodes=10,\n",
       "                                             min_samples_split=10),\n",
       "             param_grid={'max_leaf_nodes': range(2, 10),\n",
       "                         'min_samples_split': range(2, 100)})"
      ]
     },
     "execution_count": 102,
     "metadata": {},
     "output_type": "execute_result"
    }
   ],
   "source": [
    "cart_cv_model.fit(X_train, y_train)"
   ]
  },
  {
   "cell_type": "code",
   "execution_count": 103,
   "metadata": {},
   "outputs": [
    {
     "data": {
      "text/plain": [
       "{'max_leaf_nodes': 9, 'min_samples_split': 76}"
      ]
     },
     "execution_count": 103,
     "metadata": {},
     "output_type": "execute_result"
    }
   ],
   "source": [
    "cart_cv_model.best_params_"
   ]
  },
  {
   "cell_type": "code",
   "execution_count": 108,
   "metadata": {},
   "outputs": [],
   "source": [
    "cart_tuned = DecisionTreeRegressor(max_leaf_nodes = 9, min_samples_split = 76)"
   ]
  },
  {
   "cell_type": "code",
   "execution_count": 109,
   "metadata": {},
   "outputs": [
    {
     "data": {
      "text/plain": [
       "DecisionTreeRegressor(max_leaf_nodes=9, min_samples_split=76)"
      ]
     },
     "execution_count": 109,
     "metadata": {},
     "output_type": "execute_result"
    }
   ],
   "source": [
    "cart_tuned.fit(X_train, y_train)"
   ]
  },
  {
   "cell_type": "code",
   "execution_count": 110,
   "metadata": {},
   "outputs": [],
   "source": [
    "y_pred = cart_tuned.predict(X_test)"
   ]
  },
  {
   "cell_type": "code",
   "execution_count": 111,
   "metadata": {},
   "outputs": [
    {
     "data": {
      "text/plain": [
       "423.406689243066"
      ]
     },
     "execution_count": 111,
     "metadata": {},
     "output_type": "execute_result"
    }
   ],
   "source": [
    "np.sqrt(mean_squared_error(y_test, y_pred))"
   ]
  },
  {
   "cell_type": "markdown",
   "metadata": {},
   "source": [
    "# Bagged Trees Regression"
   ]
  },
  {
   "cell_type": "code",
   "execution_count": 1,
   "metadata": {},
   "outputs": [],
   "source": [
    "import numpy as np\n",
    "import pandas as pd \n",
    "from sklearn.model_selection import train_test_split, GridSearchCV,cross_val_score\n",
    "from sklearn.metrics import mean_squared_error, r2_score\n",
    "import matplotlib.pyplot as plt\n",
    "from sklearn.preprocessing import scale \n",
    "from sklearn import model_selection\n",
    "from sklearn.tree import DecisionTreeRegressor, DecisionTreeClassifier\n",
    "from sklearn.neighbors import KNeighborsRegressor\n",
    "from sklearn.ensemble import BaggingRegressor\n",
    "\n",
    "from warnings import filterwarnings\n",
    "filterwarnings('ignore')"
   ]
  },
  {
   "cell_type": "code",
   "execution_count": 4,
   "metadata": {},
   "outputs": [],
   "source": [
    "hit=pd.read_csv(\"Hitters.csv\")\n",
    "df=hit.copy()\n",
    "df=df.dropna()\n",
    "y=df[\"Salary\"]\n",
    "dms=pd.get_dummies(df[[\"League\",\"Division\",\"NewLeague\"]])\n",
    "X_=df.drop([\"Salary\",\"League\",\"Division\",\"NewLeague\"],axis=1).astype(\"float64\")\n",
    "X=pd.concat([X_,dms[['League_N', 'Division_W', 'NewLeague_N']]],axis=1)\n",
    "X_train,X_test,y_train,y_test=train_test_split(X,y,test_size=0.25,random_state=42)"
   ]
  },
  {
   "cell_type": "code",
   "execution_count": 5,
   "metadata": {},
   "outputs": [
    {
     "data": {
      "text/plain": [
       "(197,)"
      ]
     },
     "execution_count": 5,
     "metadata": {},
     "output_type": "execute_result"
    }
   ],
   "source": [
    "y_train.shape"
   ]
  },
  {
   "cell_type": "code",
   "execution_count": 6,
   "metadata": {},
   "outputs": [
    {
     "data": {
      "text/plain": [
       "BaggingRegressor(bootstrap_features=True)"
      ]
     },
     "execution_count": 6,
     "metadata": {},
     "output_type": "execute_result"
    }
   ],
   "source": [
    "bag_model = BaggingRegressor(bootstrap_features = True)\n",
    "bag_model.fit(X_train, y_train)"
   ]
  },
  {
   "cell_type": "code",
   "execution_count": 8,
   "metadata": {},
   "outputs": [
    {
     "data": {
      "text/plain": [
       "10"
      ]
     },
     "execution_count": 8,
     "metadata": {},
     "output_type": "execute_result"
    }
   ],
   "source": [
    "bag_model.n_estimators #how many trees we set"
   ]
  },
  {
   "cell_type": "code",
   "execution_count": 9,
   "metadata": {},
   "outputs": [
    {
     "data": {
      "text/plain": [
       "[DecisionTreeRegressor(random_state=2104917013),\n",
       " DecisionTreeRegressor(random_state=886238807),\n",
       " DecisionTreeRegressor(random_state=1060703864),\n",
       " DecisionTreeRegressor(random_state=947184581),\n",
       " DecisionTreeRegressor(random_state=168727797),\n",
       " DecisionTreeRegressor(random_state=689009316),\n",
       " DecisionTreeRegressor(random_state=1322348843),\n",
       " DecisionTreeRegressor(random_state=1157956538),\n",
       " DecisionTreeRegressor(random_state=946999677),\n",
       " DecisionTreeRegressor(random_state=696173949)]"
      ]
     },
     "execution_count": 9,
     "metadata": {},
     "output_type": "execute_result"
    }
   ],
   "source": [
    "bag_model.estimators_"
   ]
  },
  {
   "cell_type": "code",
   "execution_count": 10,
   "metadata": {
    "collapsed": true,
    "jupyter": {
     "outputs_hidden": true
    }
   },
   "outputs": [
    {
     "data": {
      "text/plain": [
       "[array([143,   1,  46, 153,  59,  39, 152, 123, 172, 147, 196, 196, 146,\n",
       "         15, 130,  53, 171, 184,  89, 146, 104,  57, 108, 108, 185, 140,\n",
       "        128, 175, 193, 131,   3,  87,  12,   2,  48, 131, 167, 132,  41,\n",
       "        163, 120, 155,  17,  65,  38, 116,  68, 127,  67,  25,  37, 178,\n",
       "         42,  95,  87,  67,  51, 177,  65, 171,   8,  54,  88,  15, 129,\n",
       "         22,  67,  40, 110,  51,  23,  97, 157, 158, 194,  38,  96, 185,\n",
       "         52,  37, 194,  80,   4,  91, 113,  23, 151,  76,  73, 159,  30,\n",
       "          4,  16,  66, 187,  10, 149,  21,  30,  30, 190,  59,  75,  44,\n",
       "         46, 119, 183,  55, 102,  26,  78, 165,  22,  67,   6, 109, 131,\n",
       "        152,  68, 148,  76, 192,  54,  82,  71, 173, 127, 142,  67,  29,\n",
       "          2, 112, 103, 158, 137,  82, 176,  33, 127, 188, 137,  60,  25,\n",
       "        145,   0, 126, 138, 151,  66, 121, 140, 149, 128,  91, 140,  92,\n",
       "        171,  61, 171,  90, 123, 158, 145,  69, 128,  56, 112, 190,   9,\n",
       "        162, 119,  22,  89,  36,  91, 163,  13,  67, 174, 170,  26,   2,\n",
       "         80, 153,  77,  98, 149, 121,  38,  92,  16,  39, 168,  13, 192,\n",
       "        196, 119]),\n",
       " array([133, 143,  31, 145,  92,  96,  63, 160,   4,  29,  94, 143, 126,\n",
       "        140,   6,  30, 129, 178,  69, 120,  77, 134,  33, 154, 169,  47,\n",
       "        128, 186, 101, 185, 184, 170,  56,  12,  28,   5, 133,  96, 112,\n",
       "         16, 135, 192,  21, 164, 177, 132, 109, 131,  94, 185,  41,  59,\n",
       "        165,  93,  68,  67, 166, 139,  95,  48, 186, 165,  12, 116, 114,\n",
       "         26,  58,   9,  74,  17, 121,  60, 154,   1, 166, 108,  52, 190,\n",
       "        178, 119, 179, 102,  45,  97, 149,  18,   1,  33,  47, 179, 157,\n",
       "         35, 113, 109,  55,   2, 185,  25, 183,  82,  14, 142,  24, 128,\n",
       "         34,  60, 122,  91,   2,  16,  99,  99,  38, 150,  34, 123, 145,\n",
       "        143, 138,  86,  50, 121, 137, 143, 177, 132, 130, 154,  46, 182,\n",
       "        154, 175,  49,   0,  45,  44,  62,  54,  64,  28,  95,  48,  40,\n",
       "         18,  12,  28,  95,  98, 182,   9,  83, 164, 171,  78, 196, 127,\n",
       "          4, 124, 129,  40,  30,  34, 127, 127, 102, 147, 123,  74, 147,\n",
       "         62, 158,  20,  78, 153, 151, 190, 132, 131, 158, 181, 133, 148,\n",
       "         20, 132,  72,  19,  31,  93, 116,  77, 109, 165,  72,  53,  33,\n",
       "        119,  51]),\n",
       " array([119, 142,  50, 100, 192, 109, 134,  25,  84,   0, 161,  62,  19,\n",
       "         95,  46, 195,  12,  34, 100,  74,  68,  32,  63,  47,  85,  88,\n",
       "        145, 150,  34,  70,  95,  19,  85, 188, 169, 119,  70,  65, 184,\n",
       "        145,  29,  24,  84, 176,  90, 121,  94, 105,   0,  72, 131,  79,\n",
       "        164, 144,   3,  90,  71,  43, 110,  55,  92, 196,   2,  68, 151,\n",
       "        106,  88, 164,  41,  84, 142, 139,  96, 158, 173,  21,   1, 186,\n",
       "        182, 164,  44,  72, 127,  11,  62,  27, 122, 182,  94, 105, 124,\n",
       "         26, 142, 177,  14, 103, 191,  11,  54, 162, 134,   4, 128,  22,\n",
       "         29, 137, 165, 131, 105, 174, 190,  16, 178, 123,  27, 117,  29,\n",
       "         89,  95, 132,  94,  56, 176, 180, 127, 168, 121,  23, 110,  67,\n",
       "        107,  38, 167, 149, 174, 175, 131, 110,   6,  25, 149, 156,  74,\n",
       "        127, 190,  42, 126,  30,  59,  21, 105, 186, 117, 169, 166,   3,\n",
       "         50,  71, 182,  36, 177, 162,  22,  72,  23,  95, 136,   8, 131,\n",
       "          8,  48,  64,  43,  19,  14,  46,   8, 164,  56, 194, 182, 182,\n",
       "         58,  20,  74,  69, 124, 153, 100,  30,  52, 196,  68,   7,  82,\n",
       "        106,  50]),\n",
       " array([162,  58,  84,  97, 170, 128,  32, 171,  63,  52, 187,   2,  16,\n",
       "        187,   8, 151, 178, 108, 127,  99, 129,  11,  21,  26, 148,  34,\n",
       "         36,  81,  13,  90, 125, 147,   6,  43,  66, 164,  83, 138,  95,\n",
       "         50,  38, 194, 173,  79, 142,  30, 126, 149,  96, 173, 183, 127,\n",
       "        108, 157,  87,  27, 170,  68,  86, 127, 161, 112, 158, 175, 150,\n",
       "        109,  16, 116, 162, 191,  32, 135, 138, 181, 138,  23,  52, 163,\n",
       "         28,  11, 129, 189,  40, 125,  17,  57,  47, 164, 155, 159,  67,\n",
       "        185, 112,  46, 196, 138,  83, 144,  28, 151, 122,  67, 165,  43,\n",
       "        162, 177,  26,  35,   9,  74,   0,  70,   0,  48, 120,  52, 128,\n",
       "         89,  88, 162, 156,  17, 190, 147,  13,  64, 144, 135,  20,  23,\n",
       "         91,  96, 130,   3,  33,  34, 173,  95, 193, 109, 180, 167,  31,\n",
       "         74,  85,  50, 139, 104,  60,  80,  59,  36,  18,  85,  40,  26,\n",
       "         95,  12, 135, 108,  41,  89,  74, 138,  23, 147,  15,   3,  62,\n",
       "         83,  67, 193,  50, 110, 181,   0, 118,  75, 141,  61, 107, 170,\n",
       "        170, 126,  84,   6, 135,  65,  43,  60, 155,  69, 187, 123, 133,\n",
       "         84,  54]),\n",
       " array([  6,   2, 186,  18,  43,  65, 195, 140, 136, 168, 100, 102, 162,\n",
       "         89,  81, 173, 136, 121, 149, 183, 107,  74, 142, 123,  15, 187,\n",
       "         19,  94, 135,  10,  44, 162,   4, 122, 183,  25,   0,  44,  97,\n",
       "         93,  99,  85,  17,  79, 135, 137,  23,  21,  53, 146, 108, 162,\n",
       "        153, 164,  56,  59,  97,  18, 166, 169,  38, 106, 188, 146, 182,\n",
       "         23,  27, 156, 171,  15,  67, 163,  23,  55, 179,  24,  95, 109,\n",
       "        101, 196,  85,  24,  88,  29,  20,   5, 146,  56, 152, 190, 147,\n",
       "         42,  39, 139,   2, 110, 105,  88,  63,  29, 133,  86,  11,  94,\n",
       "         35, 162,  97,  88, 186,  86, 196, 161, 133,  85,   0, 173,   3,\n",
       "        192, 181, 123,  52,   2, 193,  91, 155,  83,  78, 135, 126,  68,\n",
       "         80, 144,  12,  57, 194, 111, 116,  99,  44, 189, 196, 154, 125,\n",
       "        120, 178, 120,   6,  81, 154,  85,  81,  96, 143,   1, 177,  62,\n",
       "        149, 168, 112,  60,  47,  41, 146, 143, 185, 152, 145,  15,   2,\n",
       "         46,  92, 158, 174,  19,  57,  97,  98,  72, 101,  39,  17,  56,\n",
       "        130, 154, 108, 172, 115, 152, 182,  36, 101,  25, 172, 137, 148,\n",
       "         49,  74]),\n",
       " array([ 90,   9, 191,  68, 170,  49, 155, 173, 139,  44, 101, 196, 170,\n",
       "         14, 177,  39,   0, 169, 114,  87, 147,  38, 152,  66,  39,  94,\n",
       "        191, 151, 109, 149,  19, 101,  96,   0, 130,  24, 115,  11, 132,\n",
       "        107,  25,  49, 146,  22,  48,  96, 104,  12,  36,  12, 133, 187,\n",
       "         48, 161, 178,   4, 186,  33, 148,  60, 147, 108, 138, 161, 114,\n",
       "        130,   4, 142,  72, 111,   9,  99, 151,  84, 176, 137,   7,  35,\n",
       "        137, 143,  24,  26,  96,  36,  41, 116,  22,   5, 102, 180,  39,\n",
       "         67,   0, 136,  78, 109,  54,  44,  82,  51, 119, 147,  83,  63,\n",
       "         58,  61,  75,  51, 192, 189, 181, 112, 121, 126,  87,  67,   0,\n",
       "         58, 128,  28, 168, 193, 124,  35, 119, 117,   1, 104,  35, 171,\n",
       "         10,  58,  66,  61, 120, 141,   2,   9,  80,  50, 117,  70,  52,\n",
       "        142,  48,  93,  93,   4, 110, 190, 191, 195, 150,  91, 187, 144,\n",
       "         11, 144, 135,  14,  99,  31,  29,  25,  49,  87, 160,  63, 172,\n",
       "        127,  11, 135,  85,  56, 122,  38, 127, 113,   7,  86,  38,  91,\n",
       "        112, 162, 167, 156, 135, 188, 132,  10,  96, 139,  87, 100, 194,\n",
       "        140, 111]),\n",
       " array([130,  44, 151, 125,  48,  66, 156,  54, 109,  72, 125,  85, 136,\n",
       "         58,  98, 139,  98,  77, 172, 121,  45,  54,  37,  86, 187, 114,\n",
       "         37,  79,  10,  52, 185, 102,  74, 132, 162,  23,  15, 153,  14,\n",
       "          5,  26, 116,   6,   6, 119,  98, 130, 108,   8,   6, 160, 135,\n",
       "        138,  11,  48, 133,  66, 137, 188, 153, 179, 138, 108, 164, 100,\n",
       "        140, 144, 195,   5, 125, 105, 164,  74,  72, 182,  92, 130,  66,\n",
       "         49, 116,  95,  62, 110, 129,  28, 103,  38, 140, 128,   8, 180,\n",
       "        160,  19, 181,  79, 167,  68,  70, 195,  41, 118,  37, 127,   8,\n",
       "        118, 104,  23,  25, 137,   0, 123,   5, 144,  52, 161, 176, 174,\n",
       "        104, 117, 137, 153,  10, 159, 124,  31,  75,   7, 117,  37, 123,\n",
       "        118,  74,  88, 175,   0, 123, 171, 194, 119, 116, 171, 126, 149,\n",
       "         66, 151, 179,  73, 192,  38, 165,  71, 128,  88, 165, 128,  76,\n",
       "        166,   0,  24, 146, 108,  81,  31,  21, 108, 137,  85, 150, 140,\n",
       "        132, 188,  15, 196, 105,  68, 187,  86, 112, 140, 100, 101,  79,\n",
       "         54, 146,  54, 144,  11,  60,  18, 191,  72,  70,  72, 146,  85,\n",
       "         19, 152]),\n",
       " array([ 26, 129,  17,  23, 187,  97, 135,  60,  17, 109,  41, 171, 127,\n",
       "         64, 181, 132,  56, 149, 119, 146,  90,  48, 112,  71,  72, 166,\n",
       "        145, 170,  69, 148,  29, 181,  56,  98, 157, 146,  30,  23, 170,\n",
       "         32, 119, 172,  27, 157, 126, 111,  47,  53,  83,  93,  52,  86,\n",
       "        108, 102,  98, 126, 169, 174, 145, 143, 109,  68,  49,  76, 134,\n",
       "        125, 160, 190,  36,   3,   7,  50,  56, 137, 166, 160,  29, 176,\n",
       "         93,  67, 122,  27,  59,  77,  22,   0,  89, 150, 117, 134,  72,\n",
       "         19,  25, 128,  37, 102, 171,  74, 159,  17, 102, 122, 196,  46,\n",
       "         62,  65,   3,  75,  93, 193, 137, 133, 191,  52,   6,  39, 195,\n",
       "         42,  32,  74, 181, 115,  76,  59, 119,  22, 144, 190,  25, 168,\n",
       "        168,  62,  67,  43, 153,   4,   6,  42,  52,  85, 146, 105,  43,\n",
       "        164, 117,  92,   7,  70, 179, 142,  59, 181, 145, 164, 120, 147,\n",
       "         40, 181,  80,  33,   8,  32,  38,  74, 137,  14,  16, 172, 191,\n",
       "         15,  58, 164, 160,  33, 191, 121, 136,  14, 118,  53, 103,  85,\n",
       "        104,  92, 100, 132,  10, 102, 112, 186, 171, 188,   5,  59, 123,\n",
       "         51, 166]),\n",
       " array([ 30,  68,  84,  44, 125,  17,  92,  16,  29,  65, 175, 142, 102,\n",
       "         35, 114,   9, 105,  80, 148, 169, 132, 124,  76,  94,  61,  82,\n",
       "          3, 133,  54,  63,  55, 196,  91,  10, 136, 109,  66,   1,  88,\n",
       "         39,  84,  23, 108,  32,  88, 133, 103,  12, 195, 142, 101,  97,\n",
       "        129,  54,  76, 136,  27, 188, 129,  28, 127,  54,  49, 137, 129,\n",
       "          6,  68,  32, 171, 170,  15, 170,  30,  53,   9,  92,  71,  23,\n",
       "         78,  63,  38,  59,  96,  48,  28,   2, 119,  30,   5, 144,   8,\n",
       "         41,  83, 158, 182, 142,  60, 170, 129,  20,  39,  78, 195, 147,\n",
       "        133,  32, 178, 119,  18,   4,  60, 195,  55,  78, 121, 173,  43,\n",
       "         20, 139,  78,   1,  21, 133,  55,  72, 136,  42,  95,  97,  48,\n",
       "        109, 117,  49, 111, 178,   2,  93,  15,  60, 193,   4, 179,  57,\n",
       "         52, 130, 121, 155, 182,  18,  21, 123,  27,  37,  87,  97,  65,\n",
       "        115, 111,  75,   0,  33,  56,   9, 170,  94, 172, 124,   0, 158,\n",
       "        166, 125,   3,  26,  98, 117, 133,  64,  17,   9,   7, 150, 151,\n",
       "        159, 117,  45,  55, 191, 131, 157,  82,  83,  21,  49,  44,  22,\n",
       "        146, 158]),\n",
       " array([ 63,  80, 174, 192,  24, 166,   4,   0,  90,  49, 105, 152,  45,\n",
       "         97, 167,  49,  59,  57,  54,  31,  17, 122,  41, 186,   2,  28,\n",
       "         38,  26, 105, 149,  62,  59, 170, 131, 143, 138, 188, 174, 132,\n",
       "        195, 150, 120, 193,  61,  51, 168,  60, 158,  28, 125, 139,  86,\n",
       "        100,  91, 126,  38, 109, 122,  71, 110,  21, 191,   4, 106, 163,\n",
       "         80, 188,  37, 147, 166,  79,  41, 155,  46, 120,  16,   0,  65,\n",
       "        161, 191, 145, 101,  58,  56,  27, 107,  42,  64,  99, 146, 104,\n",
       "        193,  34,  18,  73, 172,   7,  97,  19,  36,  30,  18, 104, 114,\n",
       "        111,  71, 169,  19, 128,  51,  46,  42,  10, 169, 156, 169, 179,\n",
       "        114,   2, 190,  76,  31,  76,  46,  35, 139,  28, 108, 140, 162,\n",
       "         25, 101, 159,  10, 103,  31,  79,  37, 186, 147,  78, 183, 157,\n",
       "        150,  92,  16, 136,   3,  19,   7, 151, 165,  42,  15,  41, 109,\n",
       "        135, 164, 125,  71, 196,  88,   2,  22, 126, 143,  27,  74, 194,\n",
       "         64,  60,  67, 163,  54,  26, 135, 167,  10,  85, 139, 149, 111,\n",
       "        115,   2,  41, 120,  29, 132,   1, 191, 124,  56, 133, 112,  55,\n",
       "        117,  12])]"
      ]
     },
     "execution_count": 10,
     "metadata": {},
     "output_type": "execute_result"
    }
   ],
   "source": [
    "bag_model.estimators_samples_"
   ]
  },
  {
   "cell_type": "code",
   "execution_count": 11,
   "metadata": {
    "collapsed": true,
    "jupyter": {
     "outputs_hidden": true
    }
   },
   "outputs": [
    {
     "data": {
      "text/plain": [
       "[array([ 0,  4,  6,  2, 16, 18,  3, 14,  6,  7, 13, 16, 17,  3,  2, 11,  8,\n",
       "         0,  8]),\n",
       " array([14, 13, 13, 10, 18,  6, 18,  2, 15,  0, 12, 12, 13,  4,  3, 14, 16,\n",
       "        11,  5]),\n",
       " array([ 6,  9, 18,  4,  9, 11, 12, 13, 16, 12,  0, 10, 16, 18,  2, 12,  7,\n",
       "        13,  6]),\n",
       " array([ 5, 12, 10,  5, 15, 18,  6,  7, 15,  9,  2, 17,  3,  8,  8,  0, 11,\n",
       "        16,  4]),\n",
       " array([16, 15, 15, 10,  2, 10, 10, 15, 18,  8,  4,  1,  4, 13,  6, 15, 16,\n",
       "        16,  0]),\n",
       " array([ 4, 13, 13, 14,  5, 14, 17,  4, 11,  8, 16, 15,  0, 13, 14,  3,  2,\n",
       "        10,  1]),\n",
       " array([11,  6,  5,  6, 18,  0,  0,  4, 10, 10,  8, 18,  8, 11,  3,  0, 17,\n",
       "        18,  5]),\n",
       " array([14,  6, 11,  2, 18,  2,  0, 13,  7, 13,  2, 12,  3,  4,  5, 18, 16,\n",
       "         1,  6]),\n",
       " array([16, 15, 15, 18,  2,  2,  6,  1,  1, 11,  8, 10,  0, 16,  0,  4, 12,\n",
       "         5,  7]),\n",
       " array([ 5,  1, 15, 18, 16, 12, 14,  8, 18,  2, 10,  3, 11, 18,  5, 15, 12,\n",
       "        16,  9])]"
      ]
     },
     "execution_count": 11,
     "metadata": {},
     "output_type": "execute_result"
    }
   ],
   "source": [
    "bag_model.estimators_features_"
   ]
  },
  {
   "cell_type": "code",
   "execution_count": 12,
   "metadata": {},
   "outputs": [
    {
     "data": {
      "text/plain": [
       "DecisionTreeRegressor(random_state=886238807)"
      ]
     },
     "execution_count": 12,
     "metadata": {},
     "output_type": "execute_result"
    }
   ],
   "source": [
    "bag_model.estimators_[1]"
   ]
  },
  {
   "cell_type": "code",
   "execution_count": 13,
   "metadata": {},
   "outputs": [],
   "source": [
    "# prediction"
   ]
  },
  {
   "cell_type": "code",
   "execution_count": 14,
   "metadata": {},
   "outputs": [],
   "source": [
    "y_pred = bag_model.predict(X_test)"
   ]
  },
  {
   "cell_type": "code",
   "execution_count": 15,
   "metadata": {},
   "outputs": [
    {
     "data": {
      "text/plain": [
       "366.38892678184493"
      ]
     },
     "execution_count": 15,
     "metadata": {},
     "output_type": "execute_result"
    }
   ],
   "source": [
    "np.sqrt(mean_squared_error(y_test, y_pred))"
   ]
  },
  {
   "cell_type": "code",
   "execution_count": 16,
   "metadata": {},
   "outputs": [],
   "source": [
    "second_y_pred = bag_model.estimators_[1].fit(X_train, y_train).predict(X_test)"
   ]
  },
  {
   "cell_type": "code",
   "execution_count": 18,
   "metadata": {},
   "outputs": [
    {
     "data": {
      "text/plain": [
       "458.07241493823716"
      ]
     },
     "execution_count": 18,
     "metadata": {},
     "output_type": "execute_result"
    }
   ],
   "source": [
    "np.sqrt(mean_squared_error(y_test, second_y_pred)) # second tree error"
   ]
  },
  {
   "cell_type": "code",
   "execution_count": 19,
   "metadata": {},
   "outputs": [],
   "source": [
    "fifth_y_pred = bag_model.estimators_[4].fit(X_train, y_train).predict(X_test)"
   ]
  },
  {
   "cell_type": "code",
   "execution_count": 20,
   "metadata": {},
   "outputs": [
    {
     "data": {
      "text/plain": [
       "539.312466709446"
      ]
     },
     "execution_count": 20,
     "metadata": {},
     "output_type": "execute_result"
    }
   ],
   "source": [
    "np.sqrt(mean_squared_error(y_test, fifth_y_pred)) # fifth tree error"
   ]
  },
  {
   "cell_type": "code",
   "execution_count": 21,
   "metadata": {},
   "outputs": [],
   "source": [
    "# Model Tuning"
   ]
  },
  {
   "cell_type": "code",
   "execution_count": 22,
   "metadata": {},
   "outputs": [
    {
     "data": {
      "text/plain": [
       "BaggingRegressor(bootstrap_features=True)"
      ]
     },
     "execution_count": 22,
     "metadata": {},
     "output_type": "execute_result"
    }
   ],
   "source": [
    "bag_model = BaggingRegressor(bootstrap_features = True)\n",
    "bag_model.fit(X_train, y_train)"
   ]
  },
  {
   "cell_type": "code",
   "execution_count": 23,
   "metadata": {},
   "outputs": [],
   "source": [
    "bag_params = {\"n_estimators\": range(2,20)}"
   ]
  },
  {
   "cell_type": "code",
   "execution_count": 24,
   "metadata": {},
   "outputs": [],
   "source": [
    "bag_cv_model = GridSearchCV(bag_model, bag_params, cv = 10)"
   ]
  },
  {
   "cell_type": "code",
   "execution_count": 25,
   "metadata": {},
   "outputs": [
    {
     "data": {
      "text/plain": [
       "GridSearchCV(cv=10, estimator=BaggingRegressor(bootstrap_features=True),\n",
       "             param_grid={'n_estimators': range(2, 20)})"
      ]
     },
     "execution_count": 25,
     "metadata": {},
     "output_type": "execute_result"
    }
   ],
   "source": [
    "bag_cv_model.fit(X_train, y_train)"
   ]
  },
  {
   "cell_type": "code",
   "execution_count": 26,
   "metadata": {},
   "outputs": [
    {
     "data": {
      "text/plain": [
       "{'n_estimators': 19}"
      ]
     },
     "execution_count": 26,
     "metadata": {},
     "output_type": "execute_result"
    }
   ],
   "source": [
    "bag_cv_model.best_params_"
   ]
  },
  {
   "cell_type": "code",
   "execution_count": 32,
   "metadata": {},
   "outputs": [],
   "source": [
    "bag_tuned = BaggingRegressor( n_estimators = 19, random_state = 45) # we decided random_state value"
   ]
  },
  {
   "cell_type": "code",
   "execution_count": 33,
   "metadata": {},
   "outputs": [
    {
     "data": {
      "text/plain": [
       "BaggingRegressor(n_estimators=19, random_state=45)"
      ]
     },
     "execution_count": 33,
     "metadata": {},
     "output_type": "execute_result"
    }
   ],
   "source": [
    "bag_tuned.fit(X_train, y_train)"
   ]
  },
  {
   "cell_type": "code",
   "execution_count": 34,
   "metadata": {},
   "outputs": [],
   "source": [
    "y_pred = bag_tuned.predict(X_test)"
   ]
  },
  {
   "cell_type": "code",
   "execution_count": 35,
   "metadata": {},
   "outputs": [
    {
     "data": {
      "text/plain": [
       "333.75185149705294"
      ]
     },
     "execution_count": 35,
     "metadata": {},
     "output_type": "execute_result"
    }
   ],
   "source": [
    "np.sqrt(mean_squared_error(y_test, y_pred))"
   ]
  }
 ],
 "metadata": {
  "kernelspec": {
   "display_name": "Python 3",
   "language": "python",
   "name": "python3"
  },
  "language_info": {
   "codemirror_mode": {
    "name": "ipython",
    "version": 3
   },
   "file_extension": ".py",
   "mimetype": "text/x-python",
   "name": "python",
   "nbconvert_exporter": "python",
   "pygments_lexer": "ipython3",
   "version": "3.8.5"
  }
 },
 "nbformat": 4,
 "nbformat_minor": 4
}
